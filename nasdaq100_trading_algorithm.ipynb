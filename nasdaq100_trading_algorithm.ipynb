{
  "nbformat": 4,
  "nbformat_minor": 0,
  "metadata": {
    "colab": {
      "name": "nasdaq100-trading-algorithm.ipynb",
      "provenance": [],
      "collapsed_sections": [],
      "authorship_tag": "ABX9TyNLE9/TWk5IDmrIv3/W8Hoe",
      "include_colab_link": true
    },
    "kernelspec": {
      "name": "python3",
      "display_name": "Python 3"
    },
    "language_info": {
      "name": "python"
    },
    "widgets": {
      "application/vnd.jupyter.widget-state+json": {
        "48b7f0f6f87046cf9a9daba99db98b3d": {
          "model_module": "@jupyter-widgets/controls",
          "model_name": "HBoxModel",
          "state": {
            "_view_name": "HBoxView",
            "_dom_classes": [],
            "_model_name": "HBoxModel",
            "_view_module": "@jupyter-widgets/controls",
            "_model_module_version": "1.5.0",
            "_view_count": null,
            "_view_module_version": "1.5.0",
            "box_style": "",
            "layout": "IPY_MODEL_105f3c0202c44b968983430ed437c516",
            "_model_module": "@jupyter-widgets/controls",
            "children": [
              "IPY_MODEL_31f2019f3bc54585b272025b42c19ef3",
              "IPY_MODEL_4554d751df974fe8bd481db72dce943d"
            ]
          }
        },
        "105f3c0202c44b968983430ed437c516": {
          "model_module": "@jupyter-widgets/base",
          "model_name": "LayoutModel",
          "state": {
            "_view_name": "LayoutView",
            "grid_template_rows": null,
            "right": null,
            "justify_content": null,
            "_view_module": "@jupyter-widgets/base",
            "overflow": null,
            "_model_module_version": "1.2.0",
            "_view_count": null,
            "flex_flow": null,
            "width": null,
            "min_width": null,
            "border": null,
            "align_items": null,
            "bottom": null,
            "_model_module": "@jupyter-widgets/base",
            "top": null,
            "grid_column": null,
            "overflow_y": null,
            "overflow_x": null,
            "grid_auto_flow": null,
            "grid_area": null,
            "grid_template_columns": null,
            "flex": null,
            "_model_name": "LayoutModel",
            "justify_items": null,
            "grid_row": null,
            "max_height": null,
            "align_content": null,
            "visibility": null,
            "align_self": null,
            "height": null,
            "min_height": null,
            "padding": null,
            "grid_auto_rows": null,
            "grid_gap": null,
            "max_width": null,
            "order": null,
            "_view_module_version": "1.2.0",
            "grid_template_areas": null,
            "object_position": null,
            "object_fit": null,
            "grid_auto_columns": null,
            "margin": null,
            "display": null,
            "left": null
          }
        },
        "31f2019f3bc54585b272025b42c19ef3": {
          "model_module": "@jupyter-widgets/controls",
          "model_name": "FloatProgressModel",
          "state": {
            "_view_name": "ProgressView",
            "style": "IPY_MODEL_b3fd5cd129ca4791a5a682ef0e6ae58e",
            "_dom_classes": [],
            "description": "product_params: 100%",
            "_model_name": "FloatProgressModel",
            "bar_style": "success",
            "max": 3,
            "_view_module": "@jupyter-widgets/controls",
            "_model_module_version": "1.5.0",
            "value": 3,
            "_view_count": null,
            "_view_module_version": "1.5.0",
            "orientation": "horizontal",
            "min": 0,
            "description_tooltip": null,
            "_model_module": "@jupyter-widgets/controls",
            "layout": "IPY_MODEL_b8026e22594a46818fccb91e9cdec63c"
          }
        },
        "4554d751df974fe8bd481db72dce943d": {
          "model_module": "@jupyter-widgets/controls",
          "model_name": "HTMLModel",
          "state": {
            "_view_name": "HTMLView",
            "style": "IPY_MODEL_ca0aef4cdd1947b3a795249c4f20a537",
            "_dom_classes": [],
            "description": "",
            "_model_name": "HTMLModel",
            "placeholder": "​",
            "_view_module": "@jupyter-widgets/controls",
            "_model_module_version": "1.5.0",
            "value": " 3/3 [01:11&lt;00:00, 23.82s/it]",
            "_view_count": null,
            "_view_module_version": "1.5.0",
            "description_tooltip": null,
            "_model_module": "@jupyter-widgets/controls",
            "layout": "IPY_MODEL_6185dbda11154407936924fe14844e15"
          }
        },
        "b3fd5cd129ca4791a5a682ef0e6ae58e": {
          "model_module": "@jupyter-widgets/controls",
          "model_name": "ProgressStyleModel",
          "state": {
            "_view_name": "StyleView",
            "_model_name": "ProgressStyleModel",
            "description_width": "initial",
            "_view_module": "@jupyter-widgets/base",
            "_model_module_version": "1.5.0",
            "_view_count": null,
            "_view_module_version": "1.2.0",
            "bar_color": null,
            "_model_module": "@jupyter-widgets/controls"
          }
        },
        "b8026e22594a46818fccb91e9cdec63c": {
          "model_module": "@jupyter-widgets/base",
          "model_name": "LayoutModel",
          "state": {
            "_view_name": "LayoutView",
            "grid_template_rows": null,
            "right": null,
            "justify_content": null,
            "_view_module": "@jupyter-widgets/base",
            "overflow": null,
            "_model_module_version": "1.2.0",
            "_view_count": null,
            "flex_flow": null,
            "width": null,
            "min_width": null,
            "border": null,
            "align_items": null,
            "bottom": null,
            "_model_module": "@jupyter-widgets/base",
            "top": null,
            "grid_column": null,
            "overflow_y": null,
            "overflow_x": null,
            "grid_auto_flow": null,
            "grid_area": null,
            "grid_template_columns": null,
            "flex": null,
            "_model_name": "LayoutModel",
            "justify_items": null,
            "grid_row": null,
            "max_height": null,
            "align_content": null,
            "visibility": null,
            "align_self": null,
            "height": null,
            "min_height": null,
            "padding": null,
            "grid_auto_rows": null,
            "grid_gap": null,
            "max_width": null,
            "order": null,
            "_view_module_version": "1.2.0",
            "grid_template_areas": null,
            "object_position": null,
            "object_fit": null,
            "grid_auto_columns": null,
            "margin": null,
            "display": null,
            "left": null
          }
        },
        "ca0aef4cdd1947b3a795249c4f20a537": {
          "model_module": "@jupyter-widgets/controls",
          "model_name": "DescriptionStyleModel",
          "state": {
            "_view_name": "StyleView",
            "_model_name": "DescriptionStyleModel",
            "description_width": "",
            "_view_module": "@jupyter-widgets/base",
            "_model_module_version": "1.5.0",
            "_view_count": null,
            "_view_module_version": "1.2.0",
            "_model_module": "@jupyter-widgets/controls"
          }
        },
        "6185dbda11154407936924fe14844e15": {
          "model_module": "@jupyter-widgets/base",
          "model_name": "LayoutModel",
          "state": {
            "_view_name": "LayoutView",
            "grid_template_rows": null,
            "right": null,
            "justify_content": null,
            "_view_module": "@jupyter-widgets/base",
            "overflow": null,
            "_model_module_version": "1.2.0",
            "_view_count": null,
            "flex_flow": null,
            "width": null,
            "min_width": null,
            "border": null,
            "align_items": null,
            "bottom": null,
            "_model_module": "@jupyter-widgets/base",
            "top": null,
            "grid_column": null,
            "overflow_y": null,
            "overflow_x": null,
            "grid_auto_flow": null,
            "grid_area": null,
            "grid_template_columns": null,
            "flex": null,
            "_model_name": "LayoutModel",
            "justify_items": null,
            "grid_row": null,
            "max_height": null,
            "align_content": null,
            "visibility": null,
            "align_self": null,
            "height": null,
            "min_height": null,
            "padding": null,
            "grid_auto_rows": null,
            "grid_gap": null,
            "max_width": null,
            "order": null,
            "_view_module_version": "1.2.0",
            "grid_template_areas": null,
            "object_position": null,
            "object_fit": null,
            "grid_auto_columns": null,
            "margin": null,
            "display": null,
            "left": null
          }
        },
        "f2d45fb91a4c48adbc575e229009b7aa": {
          "model_module": "@jupyter-widgets/controls",
          "model_name": "HBoxModel",
          "state": {
            "_view_name": "HBoxView",
            "_dom_classes": [],
            "_model_name": "HBoxModel",
            "_view_module": "@jupyter-widgets/controls",
            "_model_module_version": "1.5.0",
            "_view_count": null,
            "_view_module_version": "1.5.0",
            "box_style": "",
            "layout": "IPY_MODEL_cb52b5b5c2f44d92811d06aa510e8464",
            "_model_module": "@jupyter-widgets/controls",
            "children": [
              "IPY_MODEL_e6eed027f0cc44e19ec36e3848449dab",
              "IPY_MODEL_14d6269189684490999c556470e37462"
            ]
          }
        },
        "cb52b5b5c2f44d92811d06aa510e8464": {
          "model_module": "@jupyter-widgets/base",
          "model_name": "LayoutModel",
          "state": {
            "_view_name": "LayoutView",
            "grid_template_rows": null,
            "right": null,
            "justify_content": null,
            "_view_module": "@jupyter-widgets/base",
            "overflow": null,
            "_model_module_version": "1.2.0",
            "_view_count": null,
            "flex_flow": null,
            "width": null,
            "min_width": null,
            "border": null,
            "align_items": null,
            "bottom": null,
            "_model_module": "@jupyter-widgets/base",
            "top": null,
            "grid_column": null,
            "overflow_y": null,
            "overflow_x": null,
            "grid_auto_flow": null,
            "grid_area": null,
            "grid_template_columns": null,
            "flex": null,
            "_model_name": "LayoutModel",
            "justify_items": null,
            "grid_row": null,
            "max_height": null,
            "align_content": null,
            "visibility": null,
            "align_self": null,
            "height": null,
            "min_height": null,
            "padding": null,
            "grid_auto_rows": null,
            "grid_gap": null,
            "max_width": null,
            "order": null,
            "_view_module_version": "1.2.0",
            "grid_template_areas": null,
            "object_position": null,
            "object_fit": null,
            "grid_auto_columns": null,
            "margin": null,
            "display": null,
            "left": null
          }
        },
        "e6eed027f0cc44e19ec36e3848449dab": {
          "model_module": "@jupyter-widgets/controls",
          "model_name": "FloatProgressModel",
          "state": {
            "_view_name": "ProgressView",
            "style": "IPY_MODEL_1f23a7fa28204b0e83f9b3717a5c1094",
            "_dom_classes": [],
            "description": "date: 100%",
            "_model_name": "FloatProgressModel",
            "bar_style": "",
            "max": 578,
            "_view_module": "@jupyter-widgets/controls",
            "_model_module_version": "1.5.0",
            "value": 578,
            "_view_count": null,
            "_view_module_version": "1.5.0",
            "orientation": "horizontal",
            "min": 0,
            "description_tooltip": null,
            "_model_module": "@jupyter-widgets/controls",
            "layout": "IPY_MODEL_ac4b0196e78f4a5c872b0593e8f7e12b"
          }
        },
        "14d6269189684490999c556470e37462": {
          "model_module": "@jupyter-widgets/controls",
          "model_name": "HTMLModel",
          "state": {
            "_view_name": "HTMLView",
            "style": "IPY_MODEL_568371f93f734b6bab5b7a92fec6aa50",
            "_dom_classes": [],
            "description": "",
            "_model_name": "HTMLModel",
            "placeholder": "​",
            "_view_module": "@jupyter-widgets/controls",
            "_model_module_version": "1.5.0",
            "value": " 578/578 [00:23&lt;00:00, 26.78it/s]",
            "_view_count": null,
            "_view_module_version": "1.5.0",
            "description_tooltip": null,
            "_model_module": "@jupyter-widgets/controls",
            "layout": "IPY_MODEL_651a8cfb7d834564b416ffdef4c8a9e0"
          }
        },
        "1f23a7fa28204b0e83f9b3717a5c1094": {
          "model_module": "@jupyter-widgets/controls",
          "model_name": "ProgressStyleModel",
          "state": {
            "_view_name": "StyleView",
            "_model_name": "ProgressStyleModel",
            "description_width": "initial",
            "_view_module": "@jupyter-widgets/base",
            "_model_module_version": "1.5.0",
            "_view_count": null,
            "_view_module_version": "1.2.0",
            "bar_color": null,
            "_model_module": "@jupyter-widgets/controls"
          }
        },
        "ac4b0196e78f4a5c872b0593e8f7e12b": {
          "model_module": "@jupyter-widgets/base",
          "model_name": "LayoutModel",
          "state": {
            "_view_name": "LayoutView",
            "grid_template_rows": null,
            "right": null,
            "justify_content": null,
            "_view_module": "@jupyter-widgets/base",
            "overflow": null,
            "_model_module_version": "1.2.0",
            "_view_count": null,
            "flex_flow": null,
            "width": null,
            "min_width": null,
            "border": null,
            "align_items": null,
            "bottom": null,
            "_model_module": "@jupyter-widgets/base",
            "top": null,
            "grid_column": null,
            "overflow_y": null,
            "overflow_x": null,
            "grid_auto_flow": null,
            "grid_area": null,
            "grid_template_columns": null,
            "flex": null,
            "_model_name": "LayoutModel",
            "justify_items": null,
            "grid_row": null,
            "max_height": null,
            "align_content": null,
            "visibility": null,
            "align_self": null,
            "height": null,
            "min_height": null,
            "padding": null,
            "grid_auto_rows": null,
            "grid_gap": null,
            "max_width": null,
            "order": null,
            "_view_module_version": "1.2.0",
            "grid_template_areas": null,
            "object_position": null,
            "object_fit": null,
            "grid_auto_columns": null,
            "margin": null,
            "display": null,
            "left": null
          }
        },
        "568371f93f734b6bab5b7a92fec6aa50": {
          "model_module": "@jupyter-widgets/controls",
          "model_name": "DescriptionStyleModel",
          "state": {
            "_view_name": "StyleView",
            "_model_name": "DescriptionStyleModel",
            "description_width": "",
            "_view_module": "@jupyter-widgets/base",
            "_model_module_version": "1.5.0",
            "_view_count": null,
            "_view_module_version": "1.2.0",
            "_model_module": "@jupyter-widgets/controls"
          }
        },
        "651a8cfb7d834564b416ffdef4c8a9e0": {
          "model_module": "@jupyter-widgets/base",
          "model_name": "LayoutModel",
          "state": {
            "_view_name": "LayoutView",
            "grid_template_rows": null,
            "right": null,
            "justify_content": null,
            "_view_module": "@jupyter-widgets/base",
            "overflow": null,
            "_model_module_version": "1.2.0",
            "_view_count": null,
            "flex_flow": null,
            "width": null,
            "min_width": null,
            "border": null,
            "align_items": null,
            "bottom": null,
            "_model_module": "@jupyter-widgets/base",
            "top": null,
            "grid_column": null,
            "overflow_y": null,
            "overflow_x": null,
            "grid_auto_flow": null,
            "grid_area": null,
            "grid_template_columns": null,
            "flex": null,
            "_model_name": "LayoutModel",
            "justify_items": null,
            "grid_row": null,
            "max_height": null,
            "align_content": null,
            "visibility": null,
            "align_self": null,
            "height": null,
            "min_height": null,
            "padding": null,
            "grid_auto_rows": null,
            "grid_gap": null,
            "max_width": null,
            "order": null,
            "_view_module_version": "1.2.0",
            "grid_template_areas": null,
            "object_position": null,
            "object_fit": null,
            "grid_auto_columns": null,
            "margin": null,
            "display": null,
            "left": null
          }
        },
        "6e00e16dce2b48fabeae6cf3de128a46": {
          "model_module": "@jupyter-widgets/controls",
          "model_name": "HBoxModel",
          "state": {
            "_view_name": "HBoxView",
            "_dom_classes": [],
            "_model_name": "HBoxModel",
            "_view_module": "@jupyter-widgets/controls",
            "_model_module_version": "1.5.0",
            "_view_count": null,
            "_view_module_version": "1.5.0",
            "box_style": "",
            "layout": "IPY_MODEL_1585f43aa6b8426eb2510652f7175c28",
            "_model_module": "@jupyter-widgets/controls",
            "children": [
              "IPY_MODEL_fc6583fd73314287a2efc14687ebb184",
              "IPY_MODEL_5c67e486dacd466e8f08eaf77e354ab3"
            ]
          }
        },
        "1585f43aa6b8426eb2510652f7175c28": {
          "model_module": "@jupyter-widgets/base",
          "model_name": "LayoutModel",
          "state": {
            "_view_name": "LayoutView",
            "grid_template_rows": null,
            "right": null,
            "justify_content": null,
            "_view_module": "@jupyter-widgets/base",
            "overflow": null,
            "_model_module_version": "1.2.0",
            "_view_count": null,
            "flex_flow": null,
            "width": null,
            "min_width": null,
            "border": null,
            "align_items": null,
            "bottom": null,
            "_model_module": "@jupyter-widgets/base",
            "top": null,
            "grid_column": null,
            "overflow_y": null,
            "overflow_x": null,
            "grid_auto_flow": null,
            "grid_area": null,
            "grid_template_columns": null,
            "flex": null,
            "_model_name": "LayoutModel",
            "justify_items": null,
            "grid_row": null,
            "max_height": null,
            "align_content": null,
            "visibility": null,
            "align_self": null,
            "height": null,
            "min_height": null,
            "padding": null,
            "grid_auto_rows": null,
            "grid_gap": null,
            "max_width": null,
            "order": null,
            "_view_module_version": "1.2.0",
            "grid_template_areas": null,
            "object_position": null,
            "object_fit": null,
            "grid_auto_columns": null,
            "margin": null,
            "display": null,
            "left": null
          }
        },
        "fc6583fd73314287a2efc14687ebb184": {
          "model_module": "@jupyter-widgets/controls",
          "model_name": "FloatProgressModel",
          "state": {
            "_view_name": "ProgressView",
            "style": "IPY_MODEL_f41d327d04b649f9900a53f16fa4008e",
            "_dom_classes": [],
            "description": "date: 100%",
            "_model_name": "FloatProgressModel",
            "bar_style": "",
            "max": 578,
            "_view_module": "@jupyter-widgets/controls",
            "_model_module_version": "1.5.0",
            "value": 578,
            "_view_count": null,
            "_view_module_version": "1.5.0",
            "orientation": "horizontal",
            "min": 0,
            "description_tooltip": null,
            "_model_module": "@jupyter-widgets/controls",
            "layout": "IPY_MODEL_0004948cde36428bb76f5293a65b93af"
          }
        },
        "5c67e486dacd466e8f08eaf77e354ab3": {
          "model_module": "@jupyter-widgets/controls",
          "model_name": "HTMLModel",
          "state": {
            "_view_name": "HTMLView",
            "style": "IPY_MODEL_89cf18b79c4d42acb08154891acaee31",
            "_dom_classes": [],
            "description": "",
            "_model_name": "HTMLModel",
            "placeholder": "​",
            "_view_module": "@jupyter-widgets/controls",
            "_model_module_version": "1.5.0",
            "value": " 578/578 [00:24&lt;00:00, 24.57it/s]",
            "_view_count": null,
            "_view_module_version": "1.5.0",
            "description_tooltip": null,
            "_model_module": "@jupyter-widgets/controls",
            "layout": "IPY_MODEL_f48cdf29424d43008209ef27ccfac462"
          }
        },
        "f41d327d04b649f9900a53f16fa4008e": {
          "model_module": "@jupyter-widgets/controls",
          "model_name": "ProgressStyleModel",
          "state": {
            "_view_name": "StyleView",
            "_model_name": "ProgressStyleModel",
            "description_width": "initial",
            "_view_module": "@jupyter-widgets/base",
            "_model_module_version": "1.5.0",
            "_view_count": null,
            "_view_module_version": "1.2.0",
            "bar_color": null,
            "_model_module": "@jupyter-widgets/controls"
          }
        },
        "0004948cde36428bb76f5293a65b93af": {
          "model_module": "@jupyter-widgets/base",
          "model_name": "LayoutModel",
          "state": {
            "_view_name": "LayoutView",
            "grid_template_rows": null,
            "right": null,
            "justify_content": null,
            "_view_module": "@jupyter-widgets/base",
            "overflow": null,
            "_model_module_version": "1.2.0",
            "_view_count": null,
            "flex_flow": null,
            "width": null,
            "min_width": null,
            "border": null,
            "align_items": null,
            "bottom": null,
            "_model_module": "@jupyter-widgets/base",
            "top": null,
            "grid_column": null,
            "overflow_y": null,
            "overflow_x": null,
            "grid_auto_flow": null,
            "grid_area": null,
            "grid_template_columns": null,
            "flex": null,
            "_model_name": "LayoutModel",
            "justify_items": null,
            "grid_row": null,
            "max_height": null,
            "align_content": null,
            "visibility": null,
            "align_self": null,
            "height": null,
            "min_height": null,
            "padding": null,
            "grid_auto_rows": null,
            "grid_gap": null,
            "max_width": null,
            "order": null,
            "_view_module_version": "1.2.0",
            "grid_template_areas": null,
            "object_position": null,
            "object_fit": null,
            "grid_auto_columns": null,
            "margin": null,
            "display": null,
            "left": null
          }
        },
        "89cf18b79c4d42acb08154891acaee31": {
          "model_module": "@jupyter-widgets/controls",
          "model_name": "DescriptionStyleModel",
          "state": {
            "_view_name": "StyleView",
            "_model_name": "DescriptionStyleModel",
            "description_width": "",
            "_view_module": "@jupyter-widgets/base",
            "_model_module_version": "1.5.0",
            "_view_count": null,
            "_view_module_version": "1.2.0",
            "_model_module": "@jupyter-widgets/controls"
          }
        },
        "f48cdf29424d43008209ef27ccfac462": {
          "model_module": "@jupyter-widgets/base",
          "model_name": "LayoutModel",
          "state": {
            "_view_name": "LayoutView",
            "grid_template_rows": null,
            "right": null,
            "justify_content": null,
            "_view_module": "@jupyter-widgets/base",
            "overflow": null,
            "_model_module_version": "1.2.0",
            "_view_count": null,
            "flex_flow": null,
            "width": null,
            "min_width": null,
            "border": null,
            "align_items": null,
            "bottom": null,
            "_model_module": "@jupyter-widgets/base",
            "top": null,
            "grid_column": null,
            "overflow_y": null,
            "overflow_x": null,
            "grid_auto_flow": null,
            "grid_area": null,
            "grid_template_columns": null,
            "flex": null,
            "_model_name": "LayoutModel",
            "justify_items": null,
            "grid_row": null,
            "max_height": null,
            "align_content": null,
            "visibility": null,
            "align_self": null,
            "height": null,
            "min_height": null,
            "padding": null,
            "grid_auto_rows": null,
            "grid_gap": null,
            "max_width": null,
            "order": null,
            "_view_module_version": "1.2.0",
            "grid_template_areas": null,
            "object_position": null,
            "object_fit": null,
            "grid_auto_columns": null,
            "margin": null,
            "display": null,
            "left": null
          }
        },
        "d55fd3cd3b52460a98a0d264a4761115": {
          "model_module": "@jupyter-widgets/controls",
          "model_name": "HBoxModel",
          "state": {
            "_view_name": "HBoxView",
            "_dom_classes": [],
            "_model_name": "HBoxModel",
            "_view_module": "@jupyter-widgets/controls",
            "_model_module_version": "1.5.0",
            "_view_count": null,
            "_view_module_version": "1.5.0",
            "box_style": "",
            "layout": "IPY_MODEL_d9dbd5204c0b4d2bb933c63f978ba9dc",
            "_model_module": "@jupyter-widgets/controls",
            "children": [
              "IPY_MODEL_d8dcaaaf11c8495a81f6560218c4cf42",
              "IPY_MODEL_c6a0f665056846ffad749c50099e2a5d"
            ]
          }
        },
        "d9dbd5204c0b4d2bb933c63f978ba9dc": {
          "model_module": "@jupyter-widgets/base",
          "model_name": "LayoutModel",
          "state": {
            "_view_name": "LayoutView",
            "grid_template_rows": null,
            "right": null,
            "justify_content": null,
            "_view_module": "@jupyter-widgets/base",
            "overflow": null,
            "_model_module_version": "1.2.0",
            "_view_count": null,
            "flex_flow": null,
            "width": null,
            "min_width": null,
            "border": null,
            "align_items": null,
            "bottom": null,
            "_model_module": "@jupyter-widgets/base",
            "top": null,
            "grid_column": null,
            "overflow_y": null,
            "overflow_x": null,
            "grid_auto_flow": null,
            "grid_area": null,
            "grid_template_columns": null,
            "flex": null,
            "_model_name": "LayoutModel",
            "justify_items": null,
            "grid_row": null,
            "max_height": null,
            "align_content": null,
            "visibility": null,
            "align_self": null,
            "height": null,
            "min_height": null,
            "padding": null,
            "grid_auto_rows": null,
            "grid_gap": null,
            "max_width": null,
            "order": null,
            "_view_module_version": "1.2.0",
            "grid_template_areas": null,
            "object_position": null,
            "object_fit": null,
            "grid_auto_columns": null,
            "margin": null,
            "display": null,
            "left": null
          }
        },
        "d8dcaaaf11c8495a81f6560218c4cf42": {
          "model_module": "@jupyter-widgets/controls",
          "model_name": "FloatProgressModel",
          "state": {
            "_view_name": "ProgressView",
            "style": "IPY_MODEL_13abd226ed064124816bfd6b73ab317e",
            "_dom_classes": [],
            "description": "date: 100%",
            "_model_name": "FloatProgressModel",
            "bar_style": "",
            "max": 578,
            "_view_module": "@jupyter-widgets/controls",
            "_model_module_version": "1.5.0",
            "value": 578,
            "_view_count": null,
            "_view_module_version": "1.5.0",
            "orientation": "horizontal",
            "min": 0,
            "description_tooltip": null,
            "_model_module": "@jupyter-widgets/controls",
            "layout": "IPY_MODEL_d8455ef6e60948a8bcff38a55caa4705"
          }
        },
        "c6a0f665056846ffad749c50099e2a5d": {
          "model_module": "@jupyter-widgets/controls",
          "model_name": "HTMLModel",
          "state": {
            "_view_name": "HTMLView",
            "style": "IPY_MODEL_d44fa5965f9a4beb993c186a5e5da8fb",
            "_dom_classes": [],
            "description": "",
            "_model_name": "HTMLModel",
            "placeholder": "​",
            "_view_module": "@jupyter-widgets/controls",
            "_model_module_version": "1.5.0",
            "value": " 578/578 [00:23&lt;00:00, 26.22it/s]",
            "_view_count": null,
            "_view_module_version": "1.5.0",
            "description_tooltip": null,
            "_model_module": "@jupyter-widgets/controls",
            "layout": "IPY_MODEL_2a4ae01c56e84a0fafdab50ab508186a"
          }
        },
        "13abd226ed064124816bfd6b73ab317e": {
          "model_module": "@jupyter-widgets/controls",
          "model_name": "ProgressStyleModel",
          "state": {
            "_view_name": "StyleView",
            "_model_name": "ProgressStyleModel",
            "description_width": "initial",
            "_view_module": "@jupyter-widgets/base",
            "_model_module_version": "1.5.0",
            "_view_count": null,
            "_view_module_version": "1.2.0",
            "bar_color": null,
            "_model_module": "@jupyter-widgets/controls"
          }
        },
        "d8455ef6e60948a8bcff38a55caa4705": {
          "model_module": "@jupyter-widgets/base",
          "model_name": "LayoutModel",
          "state": {
            "_view_name": "LayoutView",
            "grid_template_rows": null,
            "right": null,
            "justify_content": null,
            "_view_module": "@jupyter-widgets/base",
            "overflow": null,
            "_model_module_version": "1.2.0",
            "_view_count": null,
            "flex_flow": null,
            "width": null,
            "min_width": null,
            "border": null,
            "align_items": null,
            "bottom": null,
            "_model_module": "@jupyter-widgets/base",
            "top": null,
            "grid_column": null,
            "overflow_y": null,
            "overflow_x": null,
            "grid_auto_flow": null,
            "grid_area": null,
            "grid_template_columns": null,
            "flex": null,
            "_model_name": "LayoutModel",
            "justify_items": null,
            "grid_row": null,
            "max_height": null,
            "align_content": null,
            "visibility": null,
            "align_self": null,
            "height": null,
            "min_height": null,
            "padding": null,
            "grid_auto_rows": null,
            "grid_gap": null,
            "max_width": null,
            "order": null,
            "_view_module_version": "1.2.0",
            "grid_template_areas": null,
            "object_position": null,
            "object_fit": null,
            "grid_auto_columns": null,
            "margin": null,
            "display": null,
            "left": null
          }
        },
        "d44fa5965f9a4beb993c186a5e5da8fb": {
          "model_module": "@jupyter-widgets/controls",
          "model_name": "DescriptionStyleModel",
          "state": {
            "_view_name": "StyleView",
            "_model_name": "DescriptionStyleModel",
            "description_width": "",
            "_view_module": "@jupyter-widgets/base",
            "_model_module_version": "1.5.0",
            "_view_count": null,
            "_view_module_version": "1.2.0",
            "_model_module": "@jupyter-widgets/controls"
          }
        },
        "2a4ae01c56e84a0fafdab50ab508186a": {
          "model_module": "@jupyter-widgets/base",
          "model_name": "LayoutModel",
          "state": {
            "_view_name": "LayoutView",
            "grid_template_rows": null,
            "right": null,
            "justify_content": null,
            "_view_module": "@jupyter-widgets/base",
            "overflow": null,
            "_model_module_version": "1.2.0",
            "_view_count": null,
            "flex_flow": null,
            "width": null,
            "min_width": null,
            "border": null,
            "align_items": null,
            "bottom": null,
            "_model_module": "@jupyter-widgets/base",
            "top": null,
            "grid_column": null,
            "overflow_y": null,
            "overflow_x": null,
            "grid_auto_flow": null,
            "grid_area": null,
            "grid_template_columns": null,
            "flex": null,
            "_model_name": "LayoutModel",
            "justify_items": null,
            "grid_row": null,
            "max_height": null,
            "align_content": null,
            "visibility": null,
            "align_self": null,
            "height": null,
            "min_height": null,
            "padding": null,
            "grid_auto_rows": null,
            "grid_gap": null,
            "max_width": null,
            "order": null,
            "_view_module_version": "1.2.0",
            "grid_template_areas": null,
            "object_position": null,
            "object_fit": null,
            "grid_auto_columns": null,
            "margin": null,
            "display": null,
            "left": null
          }
        },
        "70310e319d6848708458a1149157a9e6": {
          "model_module": "@jupyter-widgets/controls",
          "model_name": "HBoxModel",
          "state": {
            "_view_name": "HBoxView",
            "_dom_classes": [],
            "_model_name": "HBoxModel",
            "_view_module": "@jupyter-widgets/controls",
            "_model_module_version": "1.5.0",
            "_view_count": null,
            "_view_module_version": "1.5.0",
            "box_style": "",
            "layout": "IPY_MODEL_6c7990df69fc4af0a5b701ee56b7bfed",
            "_model_module": "@jupyter-widgets/controls",
            "children": [
              "IPY_MODEL_f1280aa51a504d5c86541aedeeea9e06",
              "IPY_MODEL_9a84d88353364c5395f7077a80bea8cf"
            ]
          }
        },
        "6c7990df69fc4af0a5b701ee56b7bfed": {
          "model_module": "@jupyter-widgets/base",
          "model_name": "LayoutModel",
          "state": {
            "_view_name": "LayoutView",
            "grid_template_rows": null,
            "right": null,
            "justify_content": null,
            "_view_module": "@jupyter-widgets/base",
            "overflow": null,
            "_model_module_version": "1.2.0",
            "_view_count": null,
            "flex_flow": null,
            "width": null,
            "min_width": null,
            "border": null,
            "align_items": null,
            "bottom": null,
            "_model_module": "@jupyter-widgets/base",
            "top": null,
            "grid_column": null,
            "overflow_y": null,
            "overflow_x": null,
            "grid_auto_flow": null,
            "grid_area": null,
            "grid_template_columns": null,
            "flex": null,
            "_model_name": "LayoutModel",
            "justify_items": null,
            "grid_row": null,
            "max_height": null,
            "align_content": null,
            "visibility": null,
            "align_self": null,
            "height": null,
            "min_height": null,
            "padding": null,
            "grid_auto_rows": null,
            "grid_gap": null,
            "max_width": null,
            "order": null,
            "_view_module_version": "1.2.0",
            "grid_template_areas": null,
            "object_position": null,
            "object_fit": null,
            "grid_auto_columns": null,
            "margin": null,
            "display": null,
            "left": null
          }
        },
        "f1280aa51a504d5c86541aedeeea9e06": {
          "model_module": "@jupyter-widgets/controls",
          "model_name": "FloatProgressModel",
          "state": {
            "_view_name": "ProgressView",
            "style": "IPY_MODEL_f7e10f62de5e439e85616e93a329aaa1",
            "_dom_classes": [],
            "description": "product_params:  33%",
            "_model_name": "FloatProgressModel",
            "bar_style": "danger",
            "max": 3,
            "_view_module": "@jupyter-widgets/controls",
            "_model_module_version": "1.5.0",
            "value": 1,
            "_view_count": null,
            "_view_module_version": "1.5.0",
            "orientation": "horizontal",
            "min": 0,
            "description_tooltip": null,
            "_model_module": "@jupyter-widgets/controls",
            "layout": "IPY_MODEL_f417fcdcb55d47baa9698a1f7b4137f2"
          }
        },
        "9a84d88353364c5395f7077a80bea8cf": {
          "model_module": "@jupyter-widgets/controls",
          "model_name": "HTMLModel",
          "state": {
            "_view_name": "HTMLView",
            "style": "IPY_MODEL_7bff3afebe064c17b215e0ec1bb2931a",
            "_dom_classes": [],
            "description": "",
            "_model_name": "HTMLModel",
            "placeholder": "​",
            "_view_module": "@jupyter-widgets/controls",
            "_model_module_version": "1.5.0",
            "value": " 1/3 [00:49&lt;00:49, 24.96s/it]",
            "_view_count": null,
            "_view_module_version": "1.5.0",
            "description_tooltip": null,
            "_model_module": "@jupyter-widgets/controls",
            "layout": "IPY_MODEL_a976a1e5d0be47efb32e0c588a62211c"
          }
        },
        "f7e10f62de5e439e85616e93a329aaa1": {
          "model_module": "@jupyter-widgets/controls",
          "model_name": "ProgressStyleModel",
          "state": {
            "_view_name": "StyleView",
            "_model_name": "ProgressStyleModel",
            "description_width": "initial",
            "_view_module": "@jupyter-widgets/base",
            "_model_module_version": "1.5.0",
            "_view_count": null,
            "_view_module_version": "1.2.0",
            "bar_color": null,
            "_model_module": "@jupyter-widgets/controls"
          }
        },
        "f417fcdcb55d47baa9698a1f7b4137f2": {
          "model_module": "@jupyter-widgets/base",
          "model_name": "LayoutModel",
          "state": {
            "_view_name": "LayoutView",
            "grid_template_rows": null,
            "right": null,
            "justify_content": null,
            "_view_module": "@jupyter-widgets/base",
            "overflow": null,
            "_model_module_version": "1.2.0",
            "_view_count": null,
            "flex_flow": null,
            "width": null,
            "min_width": null,
            "border": null,
            "align_items": null,
            "bottom": null,
            "_model_module": "@jupyter-widgets/base",
            "top": null,
            "grid_column": null,
            "overflow_y": null,
            "overflow_x": null,
            "grid_auto_flow": null,
            "grid_area": null,
            "grid_template_columns": null,
            "flex": null,
            "_model_name": "LayoutModel",
            "justify_items": null,
            "grid_row": null,
            "max_height": null,
            "align_content": null,
            "visibility": null,
            "align_self": null,
            "height": null,
            "min_height": null,
            "padding": null,
            "grid_auto_rows": null,
            "grid_gap": null,
            "max_width": null,
            "order": null,
            "_view_module_version": "1.2.0",
            "grid_template_areas": null,
            "object_position": null,
            "object_fit": null,
            "grid_auto_columns": null,
            "margin": null,
            "display": null,
            "left": null
          }
        },
        "7bff3afebe064c17b215e0ec1bb2931a": {
          "model_module": "@jupyter-widgets/controls",
          "model_name": "DescriptionStyleModel",
          "state": {
            "_view_name": "StyleView",
            "_model_name": "DescriptionStyleModel",
            "description_width": "",
            "_view_module": "@jupyter-widgets/base",
            "_model_module_version": "1.5.0",
            "_view_count": null,
            "_view_module_version": "1.2.0",
            "_model_module": "@jupyter-widgets/controls"
          }
        },
        "a976a1e5d0be47efb32e0c588a62211c": {
          "model_module": "@jupyter-widgets/base",
          "model_name": "LayoutModel",
          "state": {
            "_view_name": "LayoutView",
            "grid_template_rows": null,
            "right": null,
            "justify_content": null,
            "_view_module": "@jupyter-widgets/base",
            "overflow": null,
            "_model_module_version": "1.2.0",
            "_view_count": null,
            "flex_flow": null,
            "width": null,
            "min_width": null,
            "border": null,
            "align_items": null,
            "bottom": null,
            "_model_module": "@jupyter-widgets/base",
            "top": null,
            "grid_column": null,
            "overflow_y": null,
            "overflow_x": null,
            "grid_auto_flow": null,
            "grid_area": null,
            "grid_template_columns": null,
            "flex": null,
            "_model_name": "LayoutModel",
            "justify_items": null,
            "grid_row": null,
            "max_height": null,
            "align_content": null,
            "visibility": null,
            "align_self": null,
            "height": null,
            "min_height": null,
            "padding": null,
            "grid_auto_rows": null,
            "grid_gap": null,
            "max_width": null,
            "order": null,
            "_view_module_version": "1.2.0",
            "grid_template_areas": null,
            "object_position": null,
            "object_fit": null,
            "grid_auto_columns": null,
            "margin": null,
            "display": null,
            "left": null
          }
        },
        "f98d1ce1a3254f0783a8508ac23c5c18": {
          "model_module": "@jupyter-widgets/controls",
          "model_name": "HBoxModel",
          "state": {
            "_view_name": "HBoxView",
            "_dom_classes": [],
            "_model_name": "HBoxModel",
            "_view_module": "@jupyter-widgets/controls",
            "_model_module_version": "1.5.0",
            "_view_count": null,
            "_view_module_version": "1.5.0",
            "box_style": "",
            "layout": "IPY_MODEL_ead7244c6b534484ac0c8d18bab65f32",
            "_model_module": "@jupyter-widgets/controls",
            "children": [
              "IPY_MODEL_1e8a7bd0d883452a94f0297e4afc77c9",
              "IPY_MODEL_716b32d8dfb248b0a96c301fbf71296f"
            ]
          }
        },
        "ead7244c6b534484ac0c8d18bab65f32": {
          "model_module": "@jupyter-widgets/base",
          "model_name": "LayoutModel",
          "state": {
            "_view_name": "LayoutView",
            "grid_template_rows": null,
            "right": null,
            "justify_content": null,
            "_view_module": "@jupyter-widgets/base",
            "overflow": null,
            "_model_module_version": "1.2.0",
            "_view_count": null,
            "flex_flow": null,
            "width": null,
            "min_width": null,
            "border": null,
            "align_items": null,
            "bottom": null,
            "_model_module": "@jupyter-widgets/base",
            "top": null,
            "grid_column": null,
            "overflow_y": null,
            "overflow_x": null,
            "grid_auto_flow": null,
            "grid_area": null,
            "grid_template_columns": null,
            "flex": null,
            "_model_name": "LayoutModel",
            "justify_items": null,
            "grid_row": null,
            "max_height": null,
            "align_content": null,
            "visibility": null,
            "align_self": null,
            "height": null,
            "min_height": null,
            "padding": null,
            "grid_auto_rows": null,
            "grid_gap": null,
            "max_width": null,
            "order": null,
            "_view_module_version": "1.2.0",
            "grid_template_areas": null,
            "object_position": null,
            "object_fit": null,
            "grid_auto_columns": null,
            "margin": null,
            "display": null,
            "left": null
          }
        },
        "1e8a7bd0d883452a94f0297e4afc77c9": {
          "model_module": "@jupyter-widgets/controls",
          "model_name": "FloatProgressModel",
          "state": {
            "_view_name": "ProgressView",
            "style": "IPY_MODEL_3e05c7de611c4fd5964cc931d47a5c23",
            "_dom_classes": [],
            "description": "date: 100%",
            "_model_name": "FloatProgressModel",
            "bar_style": "",
            "max": 578,
            "_view_module": "@jupyter-widgets/controls",
            "_model_module_version": "1.5.0",
            "value": 578,
            "_view_count": null,
            "_view_module_version": "1.5.0",
            "orientation": "horizontal",
            "min": 0,
            "description_tooltip": null,
            "_model_module": "@jupyter-widgets/controls",
            "layout": "IPY_MODEL_b9bbc068028940ffbbc969e8da15e987"
          }
        },
        "716b32d8dfb248b0a96c301fbf71296f": {
          "model_module": "@jupyter-widgets/controls",
          "model_name": "HTMLModel",
          "state": {
            "_view_name": "HTMLView",
            "style": "IPY_MODEL_91c63e6993734050975310d850408b51",
            "_dom_classes": [],
            "description": "",
            "_model_name": "HTMLModel",
            "placeholder": "​",
            "_view_module": "@jupyter-widgets/controls",
            "_model_module_version": "1.5.0",
            "value": " 578/578 [00:24&lt;00:00, 25.61it/s]",
            "_view_count": null,
            "_view_module_version": "1.5.0",
            "description_tooltip": null,
            "_model_module": "@jupyter-widgets/controls",
            "layout": "IPY_MODEL_697d922c4f2f481c94ca852a7c96e9a1"
          }
        },
        "3e05c7de611c4fd5964cc931d47a5c23": {
          "model_module": "@jupyter-widgets/controls",
          "model_name": "ProgressStyleModel",
          "state": {
            "_view_name": "StyleView",
            "_model_name": "ProgressStyleModel",
            "description_width": "initial",
            "_view_module": "@jupyter-widgets/base",
            "_model_module_version": "1.5.0",
            "_view_count": null,
            "_view_module_version": "1.2.0",
            "bar_color": null,
            "_model_module": "@jupyter-widgets/controls"
          }
        },
        "b9bbc068028940ffbbc969e8da15e987": {
          "model_module": "@jupyter-widgets/base",
          "model_name": "LayoutModel",
          "state": {
            "_view_name": "LayoutView",
            "grid_template_rows": null,
            "right": null,
            "justify_content": null,
            "_view_module": "@jupyter-widgets/base",
            "overflow": null,
            "_model_module_version": "1.2.0",
            "_view_count": null,
            "flex_flow": null,
            "width": null,
            "min_width": null,
            "border": null,
            "align_items": null,
            "bottom": null,
            "_model_module": "@jupyter-widgets/base",
            "top": null,
            "grid_column": null,
            "overflow_y": null,
            "overflow_x": null,
            "grid_auto_flow": null,
            "grid_area": null,
            "grid_template_columns": null,
            "flex": null,
            "_model_name": "LayoutModel",
            "justify_items": null,
            "grid_row": null,
            "max_height": null,
            "align_content": null,
            "visibility": null,
            "align_self": null,
            "height": null,
            "min_height": null,
            "padding": null,
            "grid_auto_rows": null,
            "grid_gap": null,
            "max_width": null,
            "order": null,
            "_view_module_version": "1.2.0",
            "grid_template_areas": null,
            "object_position": null,
            "object_fit": null,
            "grid_auto_columns": null,
            "margin": null,
            "display": null,
            "left": null
          }
        },
        "91c63e6993734050975310d850408b51": {
          "model_module": "@jupyter-widgets/controls",
          "model_name": "DescriptionStyleModel",
          "state": {
            "_view_name": "StyleView",
            "_model_name": "DescriptionStyleModel",
            "description_width": "",
            "_view_module": "@jupyter-widgets/base",
            "_model_module_version": "1.5.0",
            "_view_count": null,
            "_view_module_version": "1.2.0",
            "_model_module": "@jupyter-widgets/controls"
          }
        },
        "697d922c4f2f481c94ca852a7c96e9a1": {
          "model_module": "@jupyter-widgets/base",
          "model_name": "LayoutModel",
          "state": {
            "_view_name": "LayoutView",
            "grid_template_rows": null,
            "right": null,
            "justify_content": null,
            "_view_module": "@jupyter-widgets/base",
            "overflow": null,
            "_model_module_version": "1.2.0",
            "_view_count": null,
            "flex_flow": null,
            "width": null,
            "min_width": null,
            "border": null,
            "align_items": null,
            "bottom": null,
            "_model_module": "@jupyter-widgets/base",
            "top": null,
            "grid_column": null,
            "overflow_y": null,
            "overflow_x": null,
            "grid_auto_flow": null,
            "grid_area": null,
            "grid_template_columns": null,
            "flex": null,
            "_model_name": "LayoutModel",
            "justify_items": null,
            "grid_row": null,
            "max_height": null,
            "align_content": null,
            "visibility": null,
            "align_self": null,
            "height": null,
            "min_height": null,
            "padding": null,
            "grid_auto_rows": null,
            "grid_gap": null,
            "max_width": null,
            "order": null,
            "_view_module_version": "1.2.0",
            "grid_template_areas": null,
            "object_position": null,
            "object_fit": null,
            "grid_auto_columns": null,
            "margin": null,
            "display": null,
            "left": null
          }
        },
        "46aa0e65fd204a9fbd390e4f0c6e0867": {
          "model_module": "@jupyter-widgets/controls",
          "model_name": "HBoxModel",
          "state": {
            "_view_name": "HBoxView",
            "_dom_classes": [],
            "_model_name": "HBoxModel",
            "_view_module": "@jupyter-widgets/controls",
            "_model_module_version": "1.5.0",
            "_view_count": null,
            "_view_module_version": "1.5.0",
            "box_style": "",
            "layout": "IPY_MODEL_9b47eafddb724847936352e4a8fe43e0",
            "_model_module": "@jupyter-widgets/controls",
            "children": [
              "IPY_MODEL_2f0f1e525b1948628e4dbe084d9a5501",
              "IPY_MODEL_c25ab5b1346f43d980ac9c93edc6c21c"
            ]
          }
        },
        "9b47eafddb724847936352e4a8fe43e0": {
          "model_module": "@jupyter-widgets/base",
          "model_name": "LayoutModel",
          "state": {
            "_view_name": "LayoutView",
            "grid_template_rows": null,
            "right": null,
            "justify_content": null,
            "_view_module": "@jupyter-widgets/base",
            "overflow": null,
            "_model_module_version": "1.2.0",
            "_view_count": null,
            "flex_flow": null,
            "width": null,
            "min_width": null,
            "border": null,
            "align_items": null,
            "bottom": null,
            "_model_module": "@jupyter-widgets/base",
            "top": null,
            "grid_column": null,
            "overflow_y": null,
            "overflow_x": null,
            "grid_auto_flow": null,
            "grid_area": null,
            "grid_template_columns": null,
            "flex": null,
            "_model_name": "LayoutModel",
            "justify_items": null,
            "grid_row": null,
            "max_height": null,
            "align_content": null,
            "visibility": null,
            "align_self": null,
            "height": null,
            "min_height": null,
            "padding": null,
            "grid_auto_rows": null,
            "grid_gap": null,
            "max_width": null,
            "order": null,
            "_view_module_version": "1.2.0",
            "grid_template_areas": null,
            "object_position": null,
            "object_fit": null,
            "grid_auto_columns": null,
            "margin": null,
            "display": null,
            "left": null
          }
        },
        "2f0f1e525b1948628e4dbe084d9a5501": {
          "model_module": "@jupyter-widgets/controls",
          "model_name": "FloatProgressModel",
          "state": {
            "_view_name": "ProgressView",
            "style": "IPY_MODEL_31f5b13a43764fd084f31d7b7c6dfc9f",
            "_dom_classes": [],
            "description": "date:  97%",
            "_model_name": "FloatProgressModel",
            "bar_style": "danger",
            "max": 578,
            "_view_module": "@jupyter-widgets/controls",
            "_model_module_version": "1.5.0",
            "value": 558,
            "_view_count": null,
            "_view_module_version": "1.5.0",
            "orientation": "horizontal",
            "min": 0,
            "description_tooltip": null,
            "_model_module": "@jupyter-widgets/controls",
            "layout": "IPY_MODEL_98af4aa167204f5e98f698681026dc11"
          }
        },
        "c25ab5b1346f43d980ac9c93edc6c21c": {
          "model_module": "@jupyter-widgets/controls",
          "model_name": "HTMLModel",
          "state": {
            "_view_name": "HTMLView",
            "style": "IPY_MODEL_cd6b2f4a66f841938d54d239e137cbf8",
            "_dom_classes": [],
            "description": "",
            "_model_name": "HTMLModel",
            "placeholder": "​",
            "_view_module": "@jupyter-widgets/controls",
            "_model_module_version": "1.5.0",
            "value": " 558/578 [00:35&lt;00:00, 24.25it/s]",
            "_view_count": null,
            "_view_module_version": "1.5.0",
            "description_tooltip": null,
            "_model_module": "@jupyter-widgets/controls",
            "layout": "IPY_MODEL_4684758f9b1b47c99d3479a5d945a1df"
          }
        },
        "31f5b13a43764fd084f31d7b7c6dfc9f": {
          "model_module": "@jupyter-widgets/controls",
          "model_name": "ProgressStyleModel",
          "state": {
            "_view_name": "StyleView",
            "_model_name": "ProgressStyleModel",
            "description_width": "initial",
            "_view_module": "@jupyter-widgets/base",
            "_model_module_version": "1.5.0",
            "_view_count": null,
            "_view_module_version": "1.2.0",
            "bar_color": null,
            "_model_module": "@jupyter-widgets/controls"
          }
        },
        "98af4aa167204f5e98f698681026dc11": {
          "model_module": "@jupyter-widgets/base",
          "model_name": "LayoutModel",
          "state": {
            "_view_name": "LayoutView",
            "grid_template_rows": null,
            "right": null,
            "justify_content": null,
            "_view_module": "@jupyter-widgets/base",
            "overflow": null,
            "_model_module_version": "1.2.0",
            "_view_count": null,
            "flex_flow": null,
            "width": null,
            "min_width": null,
            "border": null,
            "align_items": null,
            "bottom": null,
            "_model_module": "@jupyter-widgets/base",
            "top": null,
            "grid_column": null,
            "overflow_y": null,
            "overflow_x": null,
            "grid_auto_flow": null,
            "grid_area": null,
            "grid_template_columns": null,
            "flex": null,
            "_model_name": "LayoutModel",
            "justify_items": null,
            "grid_row": null,
            "max_height": null,
            "align_content": null,
            "visibility": null,
            "align_self": null,
            "height": null,
            "min_height": null,
            "padding": null,
            "grid_auto_rows": null,
            "grid_gap": null,
            "max_width": null,
            "order": null,
            "_view_module_version": "1.2.0",
            "grid_template_areas": null,
            "object_position": null,
            "object_fit": null,
            "grid_auto_columns": null,
            "margin": null,
            "display": null,
            "left": null
          }
        },
        "cd6b2f4a66f841938d54d239e137cbf8": {
          "model_module": "@jupyter-widgets/controls",
          "model_name": "DescriptionStyleModel",
          "state": {
            "_view_name": "StyleView",
            "_model_name": "DescriptionStyleModel",
            "description_width": "",
            "_view_module": "@jupyter-widgets/base",
            "_model_module_version": "1.5.0",
            "_view_count": null,
            "_view_module_version": "1.2.0",
            "_model_module": "@jupyter-widgets/controls"
          }
        },
        "4684758f9b1b47c99d3479a5d945a1df": {
          "model_module": "@jupyter-widgets/base",
          "model_name": "LayoutModel",
          "state": {
            "_view_name": "LayoutView",
            "grid_template_rows": null,
            "right": null,
            "justify_content": null,
            "_view_module": "@jupyter-widgets/base",
            "overflow": null,
            "_model_module_version": "1.2.0",
            "_view_count": null,
            "flex_flow": null,
            "width": null,
            "min_width": null,
            "border": null,
            "align_items": null,
            "bottom": null,
            "_model_module": "@jupyter-widgets/base",
            "top": null,
            "grid_column": null,
            "overflow_y": null,
            "overflow_x": null,
            "grid_auto_flow": null,
            "grid_area": null,
            "grid_template_columns": null,
            "flex": null,
            "_model_name": "LayoutModel",
            "justify_items": null,
            "grid_row": null,
            "max_height": null,
            "align_content": null,
            "visibility": null,
            "align_self": null,
            "height": null,
            "min_height": null,
            "padding": null,
            "grid_auto_rows": null,
            "grid_gap": null,
            "max_width": null,
            "order": null,
            "_view_module_version": "1.2.0",
            "grid_template_areas": null,
            "object_position": null,
            "object_fit": null,
            "grid_auto_columns": null,
            "margin": null,
            "display": null,
            "left": null
          }
        }
      }
    }
  },
  "cells": [
    {
      "cell_type": "markdown",
      "metadata": {
        "id": "view-in-github",
        "colab_type": "text"
      },
      "source": [
        "<a href=\"https://colab.research.google.com/github/OozyGrub/nasdaq100-trading-algorithm/blob/main/nasdaq100_trading_algorithm.ipynb\" target=\"_parent\"><img src=\"https://colab.research.google.com/assets/colab-badge.svg\" alt=\"Open In Colab\"/></a>"
      ]
    },
    {
      "cell_type": "markdown",
      "metadata": {
        "id": "nQJdN4OZPDBL"
      },
      "source": [
        "## Import"
      ]
    },
    {
      "cell_type": "code",
      "metadata": {
        "id": "Ri6MVLz9OzPK",
        "colab": {
          "base_uri": "https://localhost:8080/"
        },
        "outputId": "4212d369-2b8c-48a5-9a3e-4c43e3e2f75a"
      },
      "source": [
        "!pip install yfinance -q\n",
        "!pip install matplotlib -q\n",
        "!pip install seaborn -q\n",
        "!pip install --upgrade -q ta"
      ],
      "execution_count": 1,
      "outputs": [
        {
          "output_type": "stream",
          "text": [
            "\u001b[K     |████████████████████████████████| 6.3MB 7.4MB/s \n",
            "\u001b[?25h  Building wheel for yfinance (setup.py) ... \u001b[?25l\u001b[?25hdone\n",
            "  Building wheel for ta (setup.py) ... \u001b[?25l\u001b[?25hdone\n"
          ],
          "name": "stdout"
        }
      ]
    },
    {
      "cell_type": "code",
      "metadata": {
        "id": "CCi6re0oPQXs"
      },
      "source": [
        "import yfinance as yf\n",
        "import numpy as np\n",
        "import pandas as pd\n",
        "import warnings\n",
        "warnings.filterwarnings(\"ignore\")\n",
        "from IPython.display import Markdown, display\n",
        "def printmd(string):\n",
        "    display(Markdown(string))"
      ],
      "execution_count": 2,
      "outputs": []
    },
    {
      "cell_type": "markdown",
      "metadata": {
        "id": "leAqLLv3PJWn"
      },
      "source": [
        "## Preparation"
      ]
    },
    {
      "cell_type": "code",
      "metadata": {
        "id": "Ep_s4JVtPoqS"
      },
      "source": [
        "# configuration\n",
        "period = '2y'"
      ],
      "execution_count": 3,
      "outputs": []
    },
    {
      "cell_type": "code",
      "metadata": {
        "id": "95yWgH09PGO6"
      },
      "source": [
        "# msft = yf.Ticker(\"MSFT\")\n",
        "# aapl = yf.Ticker(\"AAPL\")\n",
        "# get historical market data\n",
        "# hist = msft.history(period = period)\n",
        "# hist.plot()\n",
        "# for hist in tickers:\n",
        "#     hist.plot()\n",
        "\n",
        "# stocks = [\"MSFT\", \"AAPL\", \"AAME\", \"AACG\", \"ACIW\", \"ACRX\"]\n",
        "\n",
        "stocks = [\"AAPL\",\"ADBE\",\"ADI\",\"ADP\",\"ADSK\",\n",
        "\"AEP\",\"ALGN\",\n",
        "\"ALXN\",\n",
        "\"AMAT\",\n",
        "\"AMD\",\n",
        "\"AMGN\",\n",
        "\"AMZN\",\n",
        "\"ANSS\",\n",
        "\"ASML\",\n",
        "\"ATVI\",\n",
        "\"AVGO\",\n",
        "\"BIDU\",\n",
        "\"BIIB\",\n",
        "\"BKNG\",\n",
        "\"CDNS\",\n",
        "\"CDW\",\n",
        "\"CERN\",\n",
        "\"CHKP\",\n",
        "\"CHTR\",\n",
        "\"CMCSA\",\n",
        "\"COST\",\n",
        "\"CPRT\",\n",
        "\"CSCO\",\n",
        "\"CSX\",\n",
        "\"CTAS\",\n",
        "\"CTSH\",\n",
        "\"DLTR\",\n",
        "\"DOCU\",\n",
        "\"DXCM\",\n",
        "\"EA\",\n",
        "\"EBAY\",\n",
        "\"EXC\",\n",
        "\"FAST\",\n",
        "\"FB\",\n",
        "\"FISV\",\n",
        "\"FOX\",\n",
        "\"FOXA\",\n",
        "\"GILD\",\n",
        "\"GOOG\",\n",
        "\"GOOGL\",\n",
        "\"IDXX\",\n",
        "\"ILMN\",\n",
        "\"INCY\",\n",
        "\"INTC\",\n",
        "\"INTU\",\n",
        "\"ISRG\",\n",
        "\"JD\",\n",
        "\"KDP\",\n",
        "\"KHC\",\n",
        "\"KLAC\",\n",
        "\"LRCX\",\n",
        "\"LULU\",\n",
        "\"MAR\",\n",
        "\"MCHP\",\n",
        "\"MDLZ\",\n",
        "\"MELI\",\n",
        "\"MNST\",\n",
        "\"MRNA\",\n",
        "\"MRVL\",\n",
        "\"MSFT\",\n",
        "\"MTCH\",\n",
        "\"MU\",\n",
        "\"MXIM\",\n",
        "\"NFLX\",\n",
        "\"NTES\",\n",
        "\"NVDA\",\n",
        "\"NXPI\",\n",
        "\"OKTA\",\n",
        "\"ORLY\",\n",
        "\"PAYX\",\n",
        "\"PCAR\",\n",
        "\"PDD\",\n",
        "\"PEP\",\n",
        "\"PTON\",\n",
        "\"PYPL\",\n",
        "\"QCOM\",\n",
        "\"REGN\",\n",
        "\"ROST\",\n",
        "\"SBUX\",\n",
        "\"SGEN\",\n",
        "\"SIRI\",\n",
        "\"SNPS\",\n",
        "\"SPLK\",\n",
        "\"SWKS\",\n",
        "\"TCOM\",\n",
        "\"TEAM\",\n",
        "\"TMUS\",\n",
        "\"TSLA\",\n",
        "\"TXN\",\n",
        "\"VRSK\",\n",
        "\"VRSN\",\n",
        "\"VRTX\",\n",
        "\"WBA\",\n",
        "\"WDAY\",\n",
        "\"XEL\",\n",
        "\"XLNX\",\n",
        "\"ZM\"]\n",
        "num_stocks = len(stocks)\n",
        "stock_dict = dict(enumerate(stocks))\n",
        "idx_to_stock = dict([(val, key) for key, val in stock_dict.items()])\n",
        "\n",
        "tickers = [yf.Ticker(stock).history(period=period) for stock in stocks]"
      ],
      "execution_count": 4,
      "outputs": []
    },
    {
      "cell_type": "code",
      "metadata": {
        "id": "3kJDYHCUT9gN"
      },
      "source": [
        "# for key, val in msft.info.items():\n",
        "#     print(f\"{key}: {val}\")"
      ],
      "execution_count": 5,
      "outputs": []
    },
    {
      "cell_type": "code",
      "metadata": {
        "id": "FM-iilaSPeto"
      },
      "source": [
        "# hist['Close'].plot(figsize=(16, 9))"
      ],
      "execution_count": 6,
      "outputs": []
    },
    {
      "cell_type": "code",
      "metadata": {
        "id": "xYjsCk5kWj6T"
      },
      "source": [
        "from ta import add_all_ta_features\n",
        "from ta.utils import dropna\n",
        "\n",
        "def with_features(x):\n",
        "    return add_all_ta_features(x, open=\"Open\", high=\"High\", low=\"Low\", close=\"Close\", volume=\"Volume\")\n",
        "\n",
        "df = []\n",
        "for ticker in tickers:\n",
        "    try:\n",
        "        x = with_features(ticker)\n",
        "        df.append(x)\n",
        "    except:\n",
        "        print(ticker)"
      ],
      "execution_count": 7,
      "outputs": []
    },
    {
      "cell_type": "code",
      "metadata": {
        "id": "5xPqzyxrJ9yB",
        "colab": {
          "base_uri": "https://localhost:8080/"
        },
        "outputId": "3b22fa66-71d7-4d9e-f114-7f8482c563f4"
      },
      "source": [
        "df[0][['momentum_tsi', 'Close']].info()"
      ],
      "execution_count": 8,
      "outputs": [
        {
          "output_type": "stream",
          "text": [
            "<class 'pandas.core.frame.DataFrame'>\n",
            "DatetimeIndex: 506 entries, 2019-05-07 to 2021-05-07\n",
            "Data columns (total 2 columns):\n",
            " #   Column        Non-Null Count  Dtype  \n",
            "---  ------        --------------  -----  \n",
            " 0   momentum_tsi  469 non-null    float64\n",
            " 1   Close         506 non-null    float64\n",
            "dtypes: float64(2)\n",
            "memory usage: 11.9 KB\n"
          ],
          "name": "stdout"
        }
      ]
    },
    {
      "cell_type": "code",
      "metadata": {
        "id": "3iw3mAJYW6lL",
        "colab": {
          "base_uri": "https://localhost:8080/",
          "height": 0
        },
        "outputId": "9ad7bec5-2187-4cc8-9681-4c644dfae991"
      },
      "source": [
        "df[0][['momentum_tsi']].plot()\n",
        "df[0][['Close']].plot()"
      ],
      "execution_count": 9,
      "outputs": [
        {
          "output_type": "execute_result",
          "data": {
            "text/plain": [
              "<matplotlib.axes._subplots.AxesSubplot at 0x7fe8f1a44a10>"
            ]
          },
          "metadata": {
            "tags": []
          },
          "execution_count": 9
        },
        {
          "output_type": "display_data",
          "data": {
            "image/png": "[encoded data removed]",
            "text/plain": [
              "<Figure size 432x288 with 1 Axes>"
            ]
          },
          "metadata": {
            "tags": [],
            "needs_background": "light"
          }
        },
        {
          "output_type": "display_data",
          "data": {
            "image/png": "[encoded data removed]",
            "text/plain": [
              "<Figure size 432x288 with 1 Axes>"
            ]
          },
          "metadata": {
            "tags": [],
            "needs_background": "light"
          }
        }
      ]
    },
    {
      "cell_type": "markdown",
      "metadata": {
        "id": "wD0tyORfwbwO"
      },
      "source": [
        "## Multiple Strategy"
      ]
    },
    {
      "cell_type": "code",
      "metadata": {
        "id": "av0CIMThImcN"
      },
      "source": [
        "from datetime import timedelta, date\n",
        "from dateutil import relativedelta\n",
        "\n",
        "# configs\n",
        "decimal_display = 2\n",
        "start_date = date(2019, 10, 1)\n",
        "end_date = date(2021, 5, 1)\n",
        "debug = False\n",
        "initial_balance = 100.00\n",
        "\n",
        "\n",
        "\n",
        "def calculate_position_balance(at_date):\n",
        "    prices = [df[j]['Close'].get(to_date_key(at_date)) if \n",
        "              df[j]['Close'].get(to_date_key(at_date)) else \n",
        "              find_nearest_price(j, at_date) \n",
        "              for j in range(num_stocks)]\n",
        "    return np.dot(position, prices)\n",
        "\n",
        "def daterange(start_date, end_date):\n",
        "    for n in range(int((end_date - start_date).days)):\n",
        "        yield start_date + timedelta(n)\n",
        "\n",
        "def to_date_key(x):\n",
        "    return x.strftime(\"%Y-%m-%d\")\n",
        "\n",
        "def buy(amount, price):\n",
        "    return amount / price\n",
        "\n",
        "def sell(amount, price):\n",
        "    return amount * price\n",
        "\n",
        "def find_nearest_price(i, date):\n",
        "    while True:\n",
        "        date -= timedelta(1)\n",
        "        if df[i]['Close'].get(to_date_key(date)):\n",
        "            return df[i]['Close'].get(to_date_key(date))\n",
        "\n",
        "def find_nearest_tsi(i, date):\n",
        "    while True:\n",
        "        date -= timedelta(1)\n",
        "        if df[i]['momentum_tsi'].get(to_date_key(date)):\n",
        "            return df[i]['momentum_tsi'].get(to_date_key(date))\n",
        "\n",
        "def get_tsi_data(date):\n",
        "    return [(key, x['momentum_tsi'].get(to_date_key(date)) if\n",
        "             x['momentum_tsi'].get(to_date_key(date)) else\n",
        "             find_nearest_tsi(key, date)) for\n",
        "            key, x in enumerate(df)]"
      ],
      "execution_count": 17,
      "outputs": []
    },
    {
      "cell_type": "code",
      "metadata": {
        "id": "HafkAdmwK2xi"
      },
      "source": [
        "from itertools import permutations, product\n",
        "\n",
        "month_period_params = [1]\n",
        "num_stock_hold_params = [5]\n",
        "sell_threshold_params = [[1.25, 1.50, 1.75]]\n",
        "sell_ratio_params = [[.2, .2, .2], [.2, .3, .4], [.1, .2, .3]]\n",
        "# cut_loss\n",
        "cut_loss_threshold_params = [.8]\n",
        "# cut_loss_sell\n",
        "\n",
        "product_params = list(product(month_period_params,\n",
        "                   num_stock_hold_params,\n",
        "                   sell_threshold_params,\n",
        "                   sell_ratio_params,\n",
        "                   cut_loss_threshold_params))\n",
        "product_params_size = len((product_params))"
      ],
      "execution_count": 18,
      "outputs": []
    },
    {
      "cell_type": "code",
      "metadata": {
        "id": "ogWwlui0QYX5"
      },
      "source": [
        "from tqdm.auto import tqdm, trange"
      ],
      "execution_count": 19,
      "outputs": []
    },
    {
      "cell_type": "code",
      "metadata": {
        "colab": {
          "base_uri": "https://localhost:8080/",
          "height": 1000,
          "referenced_widgets": [
            "48b7f0f6f87046cf9a9daba99db98b3d",
            "105f3c0202c44b968983430ed437c516",
            "31f2019f3bc54585b272025b42c19ef3",
            "4554d751df974fe8bd481db72dce943d",
            "b3fd5cd129ca4791a5a682ef0e6ae58e",
            "b8026e22594a46818fccb91e9cdec63c",
            "ca0aef4cdd1947b3a795249c4f20a537",
            "6185dbda11154407936924fe14844e15",
            "f2d45fb91a4c48adbc575e229009b7aa",
            "cb52b5b5c2f44d92811d06aa510e8464",
            "e6eed027f0cc44e19ec36e3848449dab",
            "14d6269189684490999c556470e37462",
            "1f23a7fa28204b0e83f9b3717a5c1094",
            "ac4b0196e78f4a5c872b0593e8f7e12b",
            "568371f93f734b6bab5b7a92fec6aa50",
            "651a8cfb7d834564b416ffdef4c8a9e0",
            "6e00e16dce2b48fabeae6cf3de128a46",
            "1585f43aa6b8426eb2510652f7175c28",
            "fc6583fd73314287a2efc14687ebb184",
            "5c67e486dacd466e8f08eaf77e354ab3",
            "f41d327d04b649f9900a53f16fa4008e",
            "0004948cde36428bb76f5293a65b93af",
            "89cf18b79c4d42acb08154891acaee31",
            "f48cdf29424d43008209ef27ccfac462",
            "d55fd3cd3b52460a98a0d264a4761115",
            "d9dbd5204c0b4d2bb933c63f978ba9dc",
            "d8dcaaaf11c8495a81f6560218c4cf42",
            "c6a0f665056846ffad749c50099e2a5d",
            "13abd226ed064124816bfd6b73ab317e",
            "d8455ef6e60948a8bcff38a55caa4705",
            "d44fa5965f9a4beb993c186a5e5da8fb",
            "2a4ae01c56e84a0fafdab50ab508186a"
          ]
        },
        "id": "OhQZ3Lmswec5",
        "outputId": "4842a612-2fbc-479d-9f98-87967138dfc8"
      },
      "source": [
        "results = [] # (idx, balance)[]\n",
        "\n",
        "for idx in trange(product_params_size, desc='product_params'):\n",
        "    # params\n",
        "    month_period = product_params[idx][0]\n",
        "    num_stock_hold = product_params[idx][1]\n",
        "    sell_threshold = product_params[idx][2]\n",
        "    sell_ratio = product_params[idx][3]\n",
        "    cut_loss_threshold = product_params[idx][4]\n",
        "\n",
        "    # initial vars\n",
        "    total_balance = initial_balance\n",
        "    position = [0.00] * num_stocks\n",
        "    state = [0] * num_stocks\n",
        "    buy_at = [0.00] * num_stocks\n",
        "    selected_stock = []\n",
        "    acc_total_balances = []\n",
        "    month_count = 0\n",
        "\n",
        "    trading_token = 0\n",
        "\n",
        "    def hit_sell_threshold(i, price, buy_price):\n",
        "        return price >= buy_price * sell_threshold[i]\n",
        "\n",
        "    def hit_cut_loss_threshold(price, buy_price):\n",
        "        return price <= buy_price * cut_loss_threshold\n",
        "        \n",
        "    for single_date in tqdm(list(daterange(start_date, end_date)),leave=False, desc='date'):\n",
        "        date_key = to_date_key(single_date)\n",
        "\n",
        "        # Trading period\n",
        "        if single_date.day == 1:\n",
        "            if month_count % month_period == 0:\n",
        "                trading_token = 1\n",
        "            month_count += 1\n",
        "\n",
        "        if trading_token == 1:\n",
        "            trading_token = 0\n",
        "            # select stock by top tsi\n",
        "            tsi_data = get_tsi_data(single_date)\n",
        "            tsi_data.sort(key=lambda x:-x[1])\n",
        "            top_stock = tsi_data[5: num_stock_hold + 5]\n",
        "            selected_stock = list(map(lambda x : x[0], top_stock))\n",
        "            if debug:\n",
        "                printmd(f\"Month {month_count}\")\n",
        "                # print([stock_dict[i] for i in selected_stock])\n",
        "                print(list(map(lambda x : (stock_dict[x[0]], x[1]), top_stock)))\n",
        "\n",
        "            # sell all if not top\n",
        "            for i in range(num_stocks):\n",
        "                price = df[i]['Close'].get(date_key) if df[i]['Close'].get(date_key) else find_nearest_price(i, single_date)\n",
        "                if position[i] > 0.0 and (i not in selected_stock):\n",
        "                    amount = position[i]\n",
        "                    total_balance += sell(amount, price)\n",
        "                    state[i] = 0\n",
        "                    buy_at[i] = 0\n",
        "                    position[i] = 0\n",
        "                    if debug:\n",
        "                        # print(position)\n",
        "                        print(f\"{date_key} 🧧 sell {stock_dict[i]} at: {round(price, decimal_display)}, amount: {round(amount, decimal_display)}, total_balance: {round(total_balance, decimal_display)}\")\n",
        "\n",
        "            # buy all top\n",
        "            partial_balance = total_balance / num_stock_hold\n",
        "            if partial_balance > 0.0:\n",
        "                for i in selected_stock:\n",
        "                    price = df[i]['Close'].get(date_key) if df[i]['Close'].get(date_key) else find_nearest_price(i, single_date)\n",
        "                    amount = buy(partial_balance, price)\n",
        "                    total_balance -= partial_balance\n",
        "                    position[i] += amount\n",
        "                    buy_at[i] = price\n",
        "                    state[i] = 0\n",
        "                    if debug:\n",
        "                        # print(position)\n",
        "                        print(f\"{date_key} 🟢 buy {stock_dict[i]} at: {round(price, decimal_display)}, amount: {round(amount, decimal_display)}, total_balance: {round(total_balance, decimal_display)}\")\n",
        "\n",
        "        # Watch stock price\n",
        "        for i in selected_stock:\n",
        "            price = df[i]['Close'].get(date_key) if df[i]['Close'].get(date_key) else find_nearest_price(i, single_date)\n",
        "            if position[i] > 0.0:\n",
        "                # sell\n",
        "                if state[i] < len(sell_threshold) and hit_sell_threshold(state[i], price, buy_at[i]):\n",
        "                    amount = position[i] * sell_ratio[state[i]]\n",
        "                    total_balance += sell(amount, price)\n",
        "                    position[i] -= amount\n",
        "                    state[i] += 1\n",
        "                    symbol = \"🔴\" * state[i]\n",
        "                    if debug:\n",
        "                        # print(position)\n",
        "                        print(f\"{date_key} {symbol} sell {stock_dict[i]} at: {round(price, decimal_display)}, amount: {round(amount, decimal_display)}, total_balance: {round(total_balance, decimal_display)}\")\n",
        "\n",
        "                # cut loss\n",
        "                if hit_cut_loss_threshold(price, buy_at[i]):\n",
        "                    amount = position[i]\n",
        "                    total_balance += sell(amount, price)\n",
        "                    buy_at[i] = 0.0\n",
        "                    position[i] = 0.0\n",
        "                    state[i] += 1\n",
        "                    if debug:\n",
        "                        # print(position)\n",
        "                        print(f\"{date_key} 🔥 cut_loss {stock_dict[i]} at: {round(price, decimal_display)}, amount: {round(amount, decimal_display)}, total_balance: {round(total_balance, decimal_display)}\")\n",
        "        acc_total_balances.append((single_date, total_balance + calculate_position_balance(single_date)))\n",
        "        # print(calculate_position_balance(single_date))\n",
        "\n",
        "    pd.set_option('display.max_rows', 100)\n",
        "    acc_total_balance_df = pd.DataFrame(acc_total_balances)\n",
        "    acc_total_balance_df = acc_total_balance_df.set_index(0)\n",
        "    acc_total_balance_df.plot(figsize=(8, 8))\n",
        "\n",
        "    total_balance += calculate_position_balance(end_date)\n",
        "\n",
        "    # Saving results\n",
        "    results.append((idx, total_balance))\n",
        "\n",
        "    if debug: print(\"-------- 📈 Summary --------\")\n",
        "    print(f\"{idx} -> total balance: {round(total_balance, decimal_display)}\")"
      ],
      "execution_count": 20,
      "outputs": [
        {
          "output_type": "display_data",
          "data": {
            "application/vnd.jupyter.widget-view+json": {
              "model_id": "48b7f0f6f87046cf9a9daba99db98b3d",
              "version_minor": 0,
              "version_major": 2
            },
            "text/plain": [
              "HBox(children=(FloatProgress(value=0.0, description='product_params', max=3.0, style=ProgressStyle(description…"
            ]
          },
          "metadata": {
            "tags": []
          }
        },
        {
          "output_type": "display_data",
          "data": {
            "application/vnd.jupyter.widget-view+json": {
              "model_id": "f2d45fb91a4c48adbc575e229009b7aa",
              "version_minor": 0,
              "version_major": 2
            },
            "text/plain": [
              "HBox(children=(FloatProgress(value=0.0, description='date', max=578.0, style=ProgressStyle(description_width='…"
            ]
          },
          "metadata": {
            "tags": []
          }
        },
        {
          "output_type": "stream",
          "text": [
            "0 -> total balance: 194.66\n"
          ],
          "name": "stdout"
        },
        {
          "output_type": "display_data",
          "data": {
            "application/vnd.jupyter.widget-view+json": {
              "model_id": "6e00e16dce2b48fabeae6cf3de128a46",
              "version_minor": 0,
              "version_major": 2
            },
            "text/plain": [
              "HBox(children=(FloatProgress(value=0.0, description='date', max=578.0, style=ProgressStyle(description_width='…"
            ]
          },
          "metadata": {
            "tags": []
          }
        },
        {
          "output_type": "stream",
          "text": [
            "1 -> total balance: 195.08\n"
          ],
          "name": "stdout"
        },
        {
          "output_type": "display_data",
          "data": {
            "application/vnd.jupyter.widget-view+json": {
              "model_id": "d55fd3cd3b52460a98a0d264a4761115",
              "version_minor": 0,
              "version_major": 2
            },
            "text/plain": [
              "HBox(children=(FloatProgress(value=0.0, description='date', max=578.0, style=ProgressStyle(description_width='…"
            ]
          },
          "metadata": {
            "tags": []
          }
        },
        {
          "output_type": "stream",
          "text": [
            "2 -> total balance: 194.88\n",
            "\n"
          ],
          "name": "stdout"
        },
        {
          "output_type": "display_data",
          "data": {
            "image/png": "[encoded data removed]",
            "text/plain": [
              "<Figure size 576x576 with 1 Axes>"
            ]
          },
          "metadata": {
            "tags": [],
            "needs_background": "light"
          }
        },
        {
          "output_type": "display_data",
          "data": {
            "image/png": "[encoded data removed]",
            "text/plain": [
              "<Figure size 576x576 with 1 Axes>"
            ]
          },
          "metadata": {
            "tags": [],
            "needs_background": "light"
          }
        },
        {
          "output_type": "display_data",
          "data": {
            "image/png": "[encoded data removed]",
            "text/plain": [
              "<Figure size 576x576 with 1 Axes>"
            ]
          },
          "metadata": {
            "tags": [],
            "needs_background": "light"
          }
        }
      ]
    },
    {
      "cell_type": "code",
      "metadata": {
        "colab": {
          "base_uri": "https://localhost:8080/",
          "height": 424
        },
        "id": "U9kM3OEMWTrz",
        "outputId": "0199503f-45fb-4b7a-bef7-6c1f81e8c43f"
      },
      "source": [
        "result_df = pd.DataFrame(results)\n",
        "result_df[1].plot.hist(bins=10)\n",
        "result_df[1].describe()"
      ],
      "execution_count": 14,
      "outputs": [
        {
          "output_type": "execute_result",
          "data": {
            "text/plain": [
              "count      3.000000\n",
              "mean     194.871622\n",
              "std        0.206997\n",
              "min      194.662023\n",
              "25%      194.769476\n",
              "50%      194.876930\n",
              "75%      194.976422\n",
              "max      195.075914\n",
              "Name: 1, dtype: float64"
            ]
          },
          "metadata": {
            "tags": []
          },
          "execution_count": 14
        },
        {
          "output_type": "display_data",
          "data": {
            "image/png": "[encoded data removed]",
            "text/plain": [
              "<Figure size 432x288 with 1 Axes>"
            ]
          },
          "metadata": {
            "tags": [],
            "needs_background": "light"
          }
        }
      ]
    },
    {
      "cell_type": "code",
      "metadata": {
        "id": "4Dk9fR3vR3lJ",
        "colab": {
          "base_uri": "https://localhost:8080/"
        },
        "outputId": "14059631-3155-418d-f074-d29c101a256f"
      },
      "source": [
        "results.sort(key=lambda x:x[1], reverse=True)\n",
        "for result in results[:5]:\n",
        "    idx = result[0]\n",
        "    params = product_params[idx]\n",
        "\n",
        "    month_period = params[0]\n",
        "    num_stock_hold = params[1]\n",
        "    sell_threshold = params[2]\n",
        "    sell_ratio = params[3]\n",
        "    cut_loss_threshold = params[4]\n",
        "\n",
        "    print(f\"{idx}   total balance : {round(result[1], 100)}\")\n",
        "    print(f\"        month_period: {month_period}\")\n",
        "    print(f\"        num_stock_hold: {num_stock_hold}\")\n",
        "    print(f\"        sell_threshold: {sell_threshold}\")\n",
        "    print(f\"        sell_ratio: {sell_ratio}\")\n",
        "    print(f\"        cut_loss_threshold: {cut_loss_threshold}\")\n",
        "    print()"
      ],
      "execution_count": 15,
      "outputs": [
        {
          "output_type": "stream",
          "text": [
            "1   total balance : 195.07591425747705\n",
            "        month_period: 1\n",
            "        num_stock_hold: 5\n",
            "        sell_threshold: [1.25, 1.5, 1.75]\n",
            "        sell_ratio: [0.2, 0.3, 0.4]\n",
            "        cut_loss_threshold: 0.8\n",
            "\n",
            "2   total balance : 194.87692960005782\n",
            "        month_period: 1\n",
            "        num_stock_hold: 5\n",
            "        sell_threshold: [1.25, 1.5, 1.75]\n",
            "        sell_ratio: [0.1, 0.2, 0.3]\n",
            "        cut_loss_threshold: 0.8\n",
            "\n",
            "0   total balance : 194.662022954875\n",
            "        month_period: 1\n",
            "        num_stock_hold: 5\n",
            "        sell_threshold: [1.25, 1.5, 1.75]\n",
            "        sell_ratio: [0.2, 0.2, 0.2]\n",
            "        cut_loss_threshold: 0.8\n",
            "\n"
          ],
          "name": "stdout"
        }
      ]
    },
    {
      "cell_type": "code",
      "metadata": {
        "id": "wPF_-NS1-cyp",
        "colab": {
          "base_uri": "https://localhost:8080/",
          "height": 1000,
          "referenced_widgets": [
            "70310e319d6848708458a1149157a9e6",
            "6c7990df69fc4af0a5b701ee56b7bfed",
            "f1280aa51a504d5c86541aedeeea9e06",
            "9a84d88353364c5395f7077a80bea8cf",
            "f7e10f62de5e439e85616e93a329aaa1",
            "f417fcdcb55d47baa9698a1f7b4137f2",
            "7bff3afebe064c17b215e0ec1bb2931a",
            "a976a1e5d0be47efb32e0c588a62211c",
            "f98d1ce1a3254f0783a8508ac23c5c18",
            "ead7244c6b534484ac0c8d18bab65f32",
            "1e8a7bd0d883452a94f0297e4afc77c9",
            "716b32d8dfb248b0a96c301fbf71296f",
            "3e05c7de611c4fd5964cc931d47a5c23",
            "b9bbc068028940ffbbc969e8da15e987",
            "91c63e6993734050975310d850408b51",
            "697d922c4f2f481c94ca852a7c96e9a1",
            "46aa0e65fd204a9fbd390e4f0c6e0867",
            "9b47eafddb724847936352e4a8fe43e0",
            "2f0f1e525b1948628e4dbe084d9a5501",
            "c25ab5b1346f43d980ac9c93edc6c21c",
            "31f5b13a43764fd084f31d7b7c6dfc9f",
            "98af4aa167204f5e98f698681026dc11",
            "cd6b2f4a66f841938d54d239e137cbf8",
            "4684758f9b1b47c99d3479a5d945a1df"
          ]
        },
        "outputId": "02f5195f-eb6a-444e-f838-e0c623ba1c05"
      },
      "source": [
        "results = [] # (idx, balance, avg)[]\n",
        "\n",
        "for idx in trange(product_params_size, desc='product_params'):\n",
        "    # params\n",
        "    month_period = product_params[idx][0]\n",
        "    num_stock_hold = product_params[idx][1]\n",
        "    sell_threshold = product_params[idx][2]\n",
        "    sell_ratio = product_params[idx][3]\n",
        "    cut_loss_threshold = product_params[idx][4]\n",
        "\n",
        "    # initial vars\n",
        "    total_balance = initial_balance\n",
        "    position = [0.00] * num_stocks\n",
        "    state = [0] * num_stocks\n",
        "    buy_at = [0.00] * num_stocks\n",
        "    selected_stock = []\n",
        "    acc_total_balances = []\n",
        "    month_count = 0\n",
        "\n",
        "    avg = 0\n",
        "\n",
        "    trading_token = 0\n",
        "\n",
        "    def hit_sell_threshold(i, price, buy_price):\n",
        "        return price >= buy_price * sell_threshold[i]\n",
        "\n",
        "    def hit_cut_loss_threshold(price, buy_price):\n",
        "        return price <= buy_price * cut_loss_threshold\n",
        "        \n",
        "    for single_date in tqdm(list(daterange(start_date, end_date)),leave=False, desc='date'):\n",
        "        date_key = to_date_key(single_date)\n",
        "\n",
        "        # Trading period\n",
        "        if single_date.day == 1:\n",
        "            if month_count % month_period == 0:\n",
        "                trading_token = 1\n",
        "            month_count += 1\n",
        "\n",
        "        if trading_token == 1:\n",
        "            trading_token = 0\n",
        "            # select stock by top tsi\n",
        "            tsi_data = get_tsi_data(single_date)\n",
        "            tsi_data.sort(key=lambda x:-x[1])\n",
        "            top_stock = tsi_data[5: num_stock_hold + 5]\n",
        "            selected_stock = list(map(lambda x : x[0], top_stock))\n",
        "            if debug:\n",
        "                printmd(f\"Month {month_count}\")\n",
        "                # print([stock_dict[i] for i in selected_stock])\n",
        "                print(list(map(lambda x : (stock_dict[x[0]], x[1]), top_stock)))\n",
        "\n",
        "            # sell all if not top\n",
        "            for i in range(num_stocks):\n",
        "                price = df[i]['Close'].get(date_key) if df[i]['Close'].get(date_key) else find_nearest_price(i, single_date)\n",
        "                if position[i] > 0.0 and (i not in selected_stock):\n",
        "                    amount = position[i]\n",
        "                    total_balance += sell(amount, price)\n",
        "                    state[i] = 0\n",
        "                    buy_at[i] = 0\n",
        "                    position[i] = 0\n",
        "                    if debug:\n",
        "                        # print(position)\n",
        "                        print(f\"{date_key} 🧧 sell {stock_dict[i]} at: {round(price, decimal_display)}, amount: {round(amount, decimal_display)}, total_balance: {round(total_balance, decimal_display)}\")\n",
        "\n",
        "            avg += total_balance - 100.00\n",
        "            total_balance = 100.00\n",
        "\n",
        "            # buy all top\n",
        "            partial_balance = total_balance / num_stock_hold\n",
        "            if partial_balance > 0.0:\n",
        "                for i in selected_stock:\n",
        "                    price = df[i]['Close'].get(date_key) if df[i]['Close'].get(date_key) else find_nearest_price(i, single_date)\n",
        "                    amount = buy(partial_balance, price)\n",
        "                    total_balance -= partial_balance\n",
        "                    position[i] += amount\n",
        "                    buy_at[i] = price\n",
        "                    state[i] = 0\n",
        "                    if debug:\n",
        "                        # print(position)\n",
        "                        print(f\"{date_key} 🟢 buy {stock_dict[i]} at: {round(price, decimal_display)}, amount: {round(amount, decimal_display)}, total_balance: {round(total_balance, decimal_display)}\")\n",
        "\n",
        "        # Watch stock price\n",
        "        for i in selected_stock:\n",
        "            price = df[i]['Close'].get(date_key) if df[i]['Close'].get(date_key) else find_nearest_price(i, single_date)\n",
        "            if position[i] > 0.0:\n",
        "                # sell\n",
        "                if state[i] < len(sell_threshold) and hit_sell_threshold(state[i], price, buy_at[i]):\n",
        "                    amount = position[i] * sell_ratio[state[i]]\n",
        "                    total_balance += sell(amount, price)\n",
        "                    position[i] -= amount\n",
        "                    state[i] += 1\n",
        "                    symbol = \"🔴\" * state[i]\n",
        "                    if debug:\n",
        "                        # print(position)\n",
        "                        print(f\"{date_key} {symbol} sell {stock_dict[i]} at: {round(price, decimal_display)}, amount: {round(amount, decimal_display)}, total_balance: {round(total_balance, decimal_display)}\")\n",
        "\n",
        "                # cut loss\n",
        "                if hit_cut_loss_threshold(price, buy_at[i]):\n",
        "                    amount = position[i]\n",
        "                    total_balance += sell(amount, price)\n",
        "                    buy_at[i] = 0.0\n",
        "                    position[i] = 0.0\n",
        "                    state[i] += 1\n",
        "                    if debug:\n",
        "                        # print(position)\n",
        "                        print(f\"{date_key} 🔥 cut_loss {stock_dict[i]} at: {round(price, decimal_display)}, amount: {round(amount, decimal_display)}, total_balance: {round(total_balance, decimal_display)}\")\n",
        "        acc_total_balances.append((single_date, total_balance + calculate_position_balance(single_date)))\n",
        "        # print(calculate_position_balance(single_date))\n",
        "\n",
        "    # pd.set_option('display.max_rows', 100)\n",
        "    # acc_total_balance_df = pd.DataFrame(acc_total_balances)\n",
        "    # acc_total_balance_df = acc_total_balance_df.set_index(0)\n",
        "    # acc_total_balance_df.plot(figsize=(8, 8))\n",
        "\n",
        "    total_balance += calculate_position_balance(end_date)\n",
        "    avg /= month_count\n",
        "\n",
        "    # Saving results\n",
        "    results.append((idx, total_balance, avg))\n",
        "\n",
        "    if debug: print(\"-------- 📈 Summary --------\")\n",
        "    print(f\"{idx} -> total balance: {round(total_balance, decimal_display)}, avg: {avg}\")"
      ],
      "execution_count": 16,
      "outputs": [
        {
          "output_type": "display_data",
          "data": {
            "application/vnd.jupyter.widget-view+json": {
              "model_id": "70310e319d6848708458a1149157a9e6",
              "version_minor": 0,
              "version_major": 2
            },
            "text/plain": [
              "HBox(children=(FloatProgress(value=0.0, description='product_params', max=3.0, style=ProgressStyle(description…"
            ]
          },
          "metadata": {
            "tags": []
          }
        },
        {
          "output_type": "display_data",
          "data": {
            "application/vnd.jupyter.widget-view+json": {
              "model_id": "f98d1ce1a3254f0783a8508ac23c5c18",
              "version_minor": 0,
              "version_major": 2
            },
            "text/plain": [
              "HBox(children=(FloatProgress(value=0.0, description='date', max=578.0, style=ProgressStyle(description_width='…"
            ]
          },
          "metadata": {
            "tags": []
          }
        },
        {
          "output_type": "display_data",
          "data": {
            "text/markdown": "Month 1",
            "text/plain": [
              "<IPython.core.display.Markdown object>"
            ]
          },
          "metadata": {
            "tags": []
          }
        },
        {
          "output_type": "stream",
          "text": [
            "[('AEP', 22.531289177877177), ('XEL', 21.942662255744423), ('SGEN', 21.24162514304528), ('EXC', 20.096884432253443), ('AAPL', 19.673524652676964)]\n",
            "2019-10-01 🟢 buy AEP at: 88.76, amount: 0.23, total_balance: 80.0\n",
            "2019-10-01 🟢 buy XEL at: 62.41, amount: 0.32, total_balance: 60.0\n",
            "2019-10-01 🟢 buy SGEN at: 86.0, amount: 0.23, total_balance: 40.0\n",
            "2019-10-01 🟢 buy EXC at: 45.4, amount: 0.44, total_balance: 20.0\n",
            "2019-10-01 🟢 buy AAPL at: 55.42, amount: 0.36, total_balance: 0.0\n"
          ],
          "name": "stdout"
        },
        {
          "output_type": "display_data",
          "data": {
            "text/markdown": "Month 2",
            "text/plain": [
              "<IPython.core.display.Markdown object>"
            ]
          },
          "metadata": {
            "tags": []
          }
        },
        {
          "output_type": "stream",
          "text": [
            "[('AAPL', 42.211921312870274), ('VRTX', 40.671432730664776), ('SWKS', 38.48428087956857), ('PDD', 37.88427220673615), ('LRCX', 37.77188830799423)]\n",
            "2019-11-01 🧧 sell AEP at: 89.08, amount: 0.23, total_balance: 20.07\n",
            "2019-11-01 🧧 sell EXC at: 42.9, amount: 0.44, total_balance: 38.97\n",
            "2019-11-01 🧧 sell SGEN at: 106.45, amount: 0.23, total_balance: 63.73\n",
            "2019-11-01 🧧 sell XEL at: 60.64, amount: 0.32, total_balance: 83.16\n",
            "2019-11-01 🟢 buy AAPL at: 63.12, amount: 0.32, total_balance: 80.0\n",
            "2019-11-01 🟢 buy VRTX at: 200.94, amount: 0.1, total_balance: 60.0\n",
            "2019-11-01 🟢 buy SWKS at: 96.17, amount: 0.21, total_balance: 40.0\n",
            "2019-11-01 🟢 buy PDD at: 41.49, amount: 0.48, total_balance: 20.0\n",
            "2019-11-01 🟢 buy LRCX at: 271.91, amount: 0.07, total_balance: 0.0\n",
            "2019-11-20 🔥 cut_loss PDD at: 31.4, amount: 0.48, total_balance: 15.14\n"
          ],
          "name": "stdout"
        },
        {
          "output_type": "display_data",
          "data": {
            "text/markdown": "Month 3",
            "text/plain": [
              "<IPython.core.display.Markdown object>"
            ]
          },
          "metadata": {
            "tags": []
          }
        },
        {
          "output_type": "stream",
          "text": [
            "[('VRTX', 50.76354731271967), ('INCY', 49.10806766361794), ('ANSS', 47.83297991689221), ('REGN', 44.96806157791313), ('ADBE', 43.136079590235404)]\n",
            "2019-12-01 🧧 sell AAPL at: 66.14, amount: 0.68, total_balance: 59.96\n",
            "2019-12-01 🧧 sell LRCX at: 260.74, amount: 0.07, total_balance: 79.14\n",
            "2019-12-01 🧧 sell SWKS at: 96.17, amount: 0.21, total_balance: 99.14\n",
            "2019-12-01 🟢 buy VRTX at: 221.75, amount: 0.09, total_balance: 80.0\n",
            "2019-12-01 🟢 buy INCY at: 94.16, amount: 0.21, total_balance: 60.0\n",
            "2019-12-01 🟢 buy ANSS at: 254.69, amount: 0.08, total_balance: 40.0\n",
            "2019-12-01 🟢 buy REGN at: 369.0, amount: 0.05, total_balance: 20.0\n",
            "2019-12-01 🟢 buy ADBE at: 309.53, amount: 0.06, total_balance: 0.0\n"
          ],
          "name": "stdout"
        },
        {
          "output_type": "display_data",
          "data": {
            "text/markdown": "Month 4",
            "text/plain": [
              "<IPython.core.display.Markdown object>"
            ]
          },
          "metadata": {
            "tags": []
          }
        },
        {
          "output_type": "stream",
          "text": [
            "[('AAPL', 49.21298616111402), ('MSFT', 45.95336991390319), ('MTCH', 44.10328286879355), ('NXPI', 43.75705675715406), ('AMD', 43.21574253571947)]\n",
            "2020-01-01 🧧 sell ADBE at: 329.81, amount: 0.06, total_balance: 21.31\n",
            "2020-01-01 🧧 sell ANSS at: 257.41, amount: 0.08, total_balance: 41.52\n",
            "2020-01-01 🧧 sell INCY at: 87.32, amount: 0.21, total_balance: 60.07\n",
            "2020-01-01 🧧 sell REGN at: 375.48, amount: 0.05, total_balance: 80.42\n",
            "2020-01-01 🧧 sell VRTX at: 218.95, amount: 0.19, total_balance: 121.96\n",
            "2020-01-01 🟢 buy AAPL at: 72.68, amount: 0.28, total_balance: 80.0\n",
            "2020-01-01 🟢 buy MSFT at: 155.69, amount: 0.13, total_balance: 60.0\n",
            "2020-01-01 🟢 buy MTCH at: 82.11, amount: 0.24, total_balance: 40.0\n",
            "2020-01-01 🟢 buy NXPI at: 125.22, amount: 0.16, total_balance: 20.0\n",
            "2020-01-01 🟢 buy AMD at: 45.86, amount: 0.44, total_balance: 0.0\n"
          ],
          "name": "stdout"
        },
        {
          "output_type": "display_data",
          "data": {
            "text/markdown": "Month 5",
            "text/plain": [
              "<IPython.core.display.Markdown object>"
            ]
          },
          "metadata": {
            "tags": []
          }
        },
        {
          "output_type": "stream",
          "text": [
            "[('ADBE', 45.066632419335775), ('TEAM', 40.16129074670704), ('MNST', 39.23447999476957), ('ADSK', 38.8476576856538), ('VRSN', 36.334522080578374)]\n",
            "2020-02-01 🧧 sell AAPL at: 76.6, amount: 0.28, total_balance: 21.08\n",
            "2020-02-01 🧧 sell AMD at: 47.0, amount: 0.44, total_balance: 41.58\n",
            "2020-02-01 🧧 sell MSFT at: 168.06, amount: 0.13, total_balance: 63.17\n",
            "2020-02-01 🧧 sell MTCH at: 78.22, amount: 0.24, total_balance: 82.22\n",
            "2020-02-01 🧧 sell NXPI at: 124.83, amount: 0.16, total_balance: 102.16\n",
            "2020-02-01 🟢 buy ADBE at: 351.14, amount: 0.06, total_balance: 80.0\n",
            "2020-02-01 🟢 buy TEAM at: 147.0, amount: 0.14, total_balance: 60.0\n",
            "2020-02-01 🟢 buy MNST at: 66.6, amount: 0.3, total_balance: 40.0\n",
            "2020-02-01 🟢 buy ADSK at: 196.85, amount: 0.1, total_balance: 20.0\n",
            "2020-02-01 🟢 buy VRSN at: 208.14, amount: 0.1, total_balance: 0.0\n"
          ],
          "name": "stdout"
        },
        {
          "output_type": "display_data",
          "data": {
            "text/markdown": "Month 6",
            "text/plain": [
              "<IPython.core.display.Markdown object>"
            ]
          },
          "metadata": {
            "tags": []
          }
        },
        {
          "output_type": "stream",
          "text": [
            "[('GILD', 20.890512606207714), ('TSLA', 19.77621645645905), ('NFLX', 19.318530392658054), ('MRNA', 16.80879997844641), ('BIIB', 16.28123179267657)]\n",
            "2020-03-01 🧧 sell ADBE at: 345.12, amount: 0.06, total_balance: 19.66\n",
            "2020-03-01 🧧 sell ADSK at: 190.88, amount: 0.1, total_balance: 39.05\n",
            "2020-03-01 🧧 sell MNST at: 62.41, amount: 0.3, total_balance: 57.79\n",
            "2020-03-01 🧧 sell TEAM at: 144.96, amount: 0.14, total_balance: 77.51\n",
            "2020-03-01 🧧 sell VRSN at: 189.75, amount: 0.1, total_balance: 95.75\n",
            "2020-03-01 🟢 buy GILD at: 65.9, amount: 0.3, total_balance: 80.0\n",
            "2020-03-01 🟢 buy TSLA at: 133.6, amount: 0.15, total_balance: 60.0\n",
            "2020-03-01 🟢 buy NFLX at: 369.03, amount: 0.05, total_balance: 40.0\n",
            "2020-03-01 🟢 buy MRNA at: 25.93, amount: 0.77, total_balance: 20.0\n",
            "2020-03-01 🟢 buy BIIB at: 308.39, amount: 0.06, total_balance: 0.0\n",
            "2020-03-16 🔥 cut_loss TSLA at: 89.01, amount: 0.15, total_balance: 13.33\n"
          ],
          "name": "stdout"
        },
        {
          "output_type": "display_data",
          "data": {
            "text/markdown": "Month 7",
            "text/plain": [
              "<IPython.core.display.Markdown object>"
            ]
          },
          "metadata": {
            "tags": []
          }
        },
        {
          "output_type": "stream",
          "text": [
            "[('NFLX', 1.9598642693901835), ('JD', 1.2294408072163447), ('SGEN', 0.9841246951539382), ('PDD', 0.8070164840190006), ('PTON', 0.05662230082780834)]\n",
            "2020-04-01 🧧 sell BIIB at: 293.27, amount: 0.06, total_balance: 32.35\n",
            "2020-04-01 🧧 sell GILD at: 69.54, amount: 0.3, total_balance: 53.45\n",
            "2020-04-01 🧧 sell MRNA at: 29.67, amount: 0.77, total_balance: 76.33\n",
            "2020-04-01 🟢 buy NFLX at: 364.08, amount: 0.05, total_balance: 80.0\n",
            "2020-04-01 🟢 buy JD at: 40.91, amount: 0.49, total_balance: 60.0\n",
            "2020-04-01 🟢 buy SGEN at: 111.24, amount: 0.18, total_balance: 40.0\n",
            "2020-04-01 🟢 buy PDD at: 35.9, amount: 0.56, total_balance: 20.0\n",
            "2020-04-01 🟢 buy PTON at: 27.96, amount: 0.72, total_balance: 0.0\n",
            "2020-04-15 🔴 sell PTON at: 35.61, amount: 0.14, total_balance: 5.09\n",
            "2020-04-16 🔴 sell PDD at: 45.12, amount: 0.11, total_balance: 10.12\n",
            "2020-04-20 🔴 sell SGEN at: 142.55, amount: 0.04, total_balance: 15.25\n"
          ],
          "name": "stdout"
        },
        {
          "output_type": "display_data",
          "data": {
            "text/markdown": "Month 8",
            "text/plain": [
              "<IPython.core.display.Markdown object>"
            ]
          },
          "metadata": {
            "tags": []
          }
        },
        {
          "output_type": "stream",
          "text": [
            "[('AMZN', 29.208475308874277), ('DXCM', 27.687611653438772), ('OKTA', 26.724580504390783), ('DOCU', 25.78191311665391), ('KHC', 25.580842221392626)]\n",
            "2020-05-01 🧧 sell JD at: 41.38, amount: 0.49, total_balance: 35.48\n",
            "2020-05-01 🧧 sell NFLX at: 415.27, amount: 0.11, total_balance: 80.8\n",
            "2020-05-01 🧧 sell PDD at: 45.43, amount: 0.45, total_balance: 101.04\n",
            "2020-05-01 🧧 sell PTON at: 32.05, amount: 0.57, total_balance: 119.38\n",
            "2020-05-01 🧧 sell SGEN at: 145.64, amount: 0.14, total_balance: 140.33\n",
            "2020-05-01 🟢 buy AMZN at: 2286.04, amount: 0.01, total_balance: 80.0\n",
            "2020-05-01 🟢 buy DXCM at: 341.52, amount: 0.06, total_balance: 60.0\n",
            "2020-05-01 🟢 buy OKTA at: 148.84, amount: 0.13, total_balance: 40.0\n",
            "2020-05-01 🟢 buy DOCU at: 103.52, amount: 0.19, total_balance: 20.0\n",
            "2020-05-01 🟢 buy KHC at: 28.05, amount: 0.71, total_balance: 0.0\n",
            "2020-05-20 🔴 sell OKTA at: 187.7, amount: 0.03, total_balance: 5.04\n",
            "2020-05-21 🔴 sell DOCU at: 132.85, amount: 0.04, total_balance: 10.18\n"
          ],
          "name": "stdout"
        },
        {
          "output_type": "display_data",
          "data": {
            "text/markdown": "Month 9",
            "text/plain": [
              "<IPython.core.display.Markdown object>"
            ]
          },
          "metadata": {
            "tags": []
          }
        },
        {
          "output_type": "stream",
          "text": [
            "[('SPLK', 41.343003070829724), ('PYPL', 39.438258738419584), ('ILMN', 39.21347623141534), ('FB', 38.554157492966354), ('SNPS', 37.37746915496504)]\n",
            "2020-06-01 🧧 sell AMZN at: 2471.04, amount: 0.01, total_balance: 31.8\n",
            "2020-06-01 🧧 sell DOCU at: 147.22, amount: 0.15, total_balance: 54.55\n",
            "2020-06-01 🧧 sell DXCM at: 378.7, amount: 0.06, total_balance: 76.73\n",
            "2020-06-01 🧧 sell KHC at: 29.42, amount: 0.71, total_balance: 97.71\n",
            "2020-06-01 🧧 sell OKTA at: 204.78, amount: 0.11, total_balance: 119.72\n",
            "2020-06-01 🟢 buy SPLK at: 186.56, amount: 0.11, total_balance: 80.0\n",
            "2020-06-01 🟢 buy PYPL at: 154.53, amount: 0.13, total_balance: 60.0\n",
            "2020-06-01 🟢 buy ILMN at: 365.41, amount: 0.05, total_balance: 40.0\n",
            "2020-06-01 🟢 buy FB at: 231.91, amount: 0.09, total_balance: 20.0\n",
            "2020-06-01 🟢 buy SNPS at: 182.6, amount: 0.11, total_balance: 0.0\n"
          ],
          "name": "stdout"
        },
        {
          "output_type": "display_data",
          "data": {
            "text/markdown": "Month 10",
            "text/plain": [
              "<IPython.core.display.Markdown object>"
            ]
          },
          "metadata": {
            "tags": []
          }
        },
        {
          "output_type": "stream",
          "text": [
            "[('PDD', 37.83210168288902), ('MTCH', 37.191246264107185), ('AMZN', 36.374518974508945), ('EA', 35.10281727126047), ('PYPL', 34.42429494067389)]\n",
            "2020-07-01 🧧 sell FB at: 237.55, amount: 0.09, total_balance: 20.49\n",
            "2020-07-01 🧧 sell ILMN at: 368.55, amount: 0.05, total_balance: 40.66\n",
            "2020-07-01 🧧 sell SNPS at: 196.9, amount: 0.11, total_balance: 62.22\n",
            "2020-07-01 🧧 sell SPLK at: 203.61, amount: 0.11, total_balance: 84.05\n",
            "2020-07-01 🟢 buy PDD at: 85.45, amount: 0.23, total_balance: 80.0\n",
            "2020-07-01 🟢 buy MTCH at: 105.67, amount: 0.19, total_balance: 60.0\n",
            "2020-07-01 🟢 buy AMZN at: 2878.7, amount: 0.01, total_balance: 40.0\n",
            "2020-07-01 🟢 buy EA at: 134.87, amount: 0.15, total_balance: 20.0\n",
            "2020-07-01 🟢 buy PYPL at: 177.43, amount: 0.11, total_balance: 0.0\n"
          ],
          "name": "stdout"
        },
        {
          "output_type": "display_data",
          "data": {
            "text/markdown": "Month 11",
            "text/plain": [
              "<IPython.core.display.Markdown object>"
            ]
          },
          "metadata": {
            "tags": []
          }
        },
        {
          "output_type": "stream",
          "text": [
            "[('CDNS', 40.4777401443022), ('VRSK', 39.56924472968621), ('ORLY', 39.27503926987571), ('MNST', 37.681892602374575), ('KDP', 36.47112264073057)]\n",
            "2020-08-01 🧧 sell AMZN at: 3164.68, amount: 0.01, total_balance: 21.99\n",
            "2020-08-01 🧧 sell EA at: 141.26, amount: 0.15, total_balance: 42.93\n",
            "2020-08-01 🧧 sell MTCH at: 102.7, amount: 0.19, total_balance: 62.37\n",
            "2020-08-01 🧧 sell PDD at: 91.8, amount: 0.23, total_balance: 83.86\n",
            "2020-08-01 🧧 sell PYPL at: 196.07, amount: 0.24, total_balance: 131.34\n",
            "2020-08-01 🟢 buy CDNS at: 109.25, amount: 0.18, total_balance: 80.0\n",
            "2020-08-01 🟢 buy VRSK at: 187.85, amount: 0.11, total_balance: 60.0\n",
            "2020-08-01 🟢 buy ORLY at: 477.38, amount: 0.04, total_balance: 40.0\n",
            "2020-08-01 🟢 buy MNST at: 78.48, amount: 0.25, total_balance: 20.0\n",
            "2020-08-01 🟢 buy KDP at: 30.15, amount: 0.66, total_balance: 0.0\n"
          ],
          "name": "stdout"
        },
        {
          "output_type": "display_data",
          "data": {
            "text/markdown": "Month 12",
            "text/plain": [
              "<IPython.core.display.Markdown object>"
            ]
          },
          "metadata": {
            "tags": []
          }
        },
        {
          "output_type": "stream",
          "text": [
            "[('CHTR', 46.66029689725401), ('CTAS', 46.49653960227366), ('LULU', 46.48533459555708), ('INTU', 46.42530661887774), ('WDAY', 45.48653444881061)]\n",
            "2020-09-01 🧧 sell CDNS at: 113.98, amount: 0.18, total_balance: 20.87\n",
            "2020-09-01 🧧 sell KDP at: 29.52, amount: 0.66, total_balance: 40.45\n",
            "2020-09-01 🧧 sell MNST at: 84.84, amount: 0.25, total_balance: 62.07\n",
            "2020-09-01 🧧 sell ORLY at: 473.2, amount: 0.04, total_balance: 81.89\n",
            "2020-09-01 🧧 sell VRSK at: 186.84, amount: 0.11, total_balance: 101.79\n",
            "2020-09-01 🟢 buy CHTR at: 617.24, amount: 0.03, total_balance: 80.0\n",
            "2020-09-01 🟢 buy CTAS at: 331.11, amount: 0.06, total_balance: 60.0\n",
            "2020-09-01 🟢 buy LULU at: 391.16, amount: 0.05, total_balance: 40.0\n",
            "2020-09-01 🟢 buy INTU at: 345.52, amount: 0.06, total_balance: 20.0\n",
            "2020-09-01 🟢 buy WDAY at: 241.75, amount: 0.08, total_balance: 0.0\n",
            "2020-09-16 🔥 cut_loss LULU at: 309.99, amount: 0.05, total_balance: 15.85\n"
          ],
          "name": "stdout"
        },
        {
          "output_type": "display_data",
          "data": {
            "text/markdown": "Month 13",
            "text/plain": [
              "<IPython.core.display.Markdown object>"
            ]
          },
          "metadata": {
            "tags": []
          }
        },
        {
          "output_type": "stream",
          "text": [
            "[('CMCSA', 17.525265328213603), ('PAYX', 15.23523406257331), ('COST', 14.434395445949757), ('MRVL', 14.201357279129684), ('ALXN', 13.881469650886064)]\n",
            "2020-10-01 🧧 sell CHTR at: 635.11, amount: 0.03, total_balance: 36.43\n",
            "2020-10-01 🧧 sell CTAS at: 337.65, amount: 0.06, total_balance: 56.82\n",
            "2020-10-01 🧧 sell INTU at: 330.75, amount: 0.06, total_balance: 75.97\n",
            "2020-10-01 🧧 sell WDAY at: 220.52, amount: 0.08, total_balance: 94.21\n",
            "2020-10-01 🟢 buy CMCSA at: 45.79, amount: 0.44, total_balance: 80.0\n",
            "2020-10-01 🟢 buy PAYX at: 78.21, amount: 0.26, total_balance: 60.0\n",
            "2020-10-01 🟢 buy COST at: 347.21, amount: 0.06, total_balance: 40.0\n",
            "2020-10-01 🟢 buy MRVL at: 40.15, amount: 0.5, total_balance: 20.0\n",
            "2020-10-01 🟢 buy ALXN at: 115.63, amount: 0.17, total_balance: 0.0\n"
          ],
          "name": "stdout"
        },
        {
          "output_type": "display_data",
          "data": {
            "text/markdown": "Month 14",
            "text/plain": [
              "<IPython.core.display.Markdown object>"
            ]
          },
          "metadata": {
            "tags": []
          }
        },
        {
          "output_type": "stream",
          "text": [
            "[('MELI', 24.907864732984763), ('PDD', 22.843692001854674), ('XLNX', 22.657029259389308), ('TEAM', 21.184092369525846), ('PTON', 19.012898878119827)]\n",
            "2020-11-01 🧧 sell ALXN at: 115.14, amount: 0.17, total_balance: 19.92\n",
            "2020-11-01 🧧 sell CMCSA at: 41.86, amount: 0.44, total_balance: 38.2\n",
            "2020-11-01 🧧 sell COST at: 347.06, amount: 0.06, total_balance: 58.19\n",
            "2020-11-01 🧧 sell MRVL at: 37.42, amount: 0.5, total_balance: 76.83\n",
            "2020-11-01 🧧 sell PAYX at: 81.68, amount: 0.26, total_balance: 97.71\n",
            "2020-11-01 🟢 buy MELI at: 1214.05, amount: 0.02, total_balance: 80.0\n",
            "2020-11-01 🟢 buy PDD at: 89.98, amount: 0.22, total_balance: 60.0\n",
            "2020-11-01 🟢 buy XLNX at: 118.35, amount: 0.17, total_balance: 40.0\n",
            "2020-11-01 🟢 buy TEAM at: 191.62, amount: 0.1, total_balance: 20.0\n",
            "2020-11-01 🟢 buy PTON at: 110.21, amount: 0.18, total_balance: 0.0\n",
            "2020-11-05 🔴 sell PDD at: 113.07, amount: 0.04, total_balance: 5.03\n",
            "2020-11-13 🔴🔴 sell PDD at: 151.29, amount: 0.04, total_balance: 10.41\n",
            "2020-11-30 🔴 sell MELI at: 1553.33, amount: 0.0, total_balance: 15.52\n"
          ],
          "name": "stdout"
        },
        {
          "output_type": "display_data",
          "data": {
            "text/markdown": "Month 15",
            "text/plain": [
              "<IPython.core.display.Markdown object>"
            ]
          },
          "metadata": {
            "tags": []
          }
        },
        {
          "output_type": "stream",
          "text": [
            "[('TMUS', 41.30142245594403), ('TSLA', 40.45374245602365), ('DLTR', 38.9540245328211), ('MAR', 38.47440441871473), ('NXPI', 36.6703662991813)]\n",
            "2020-12-01 🧧 sell MELI at: 1521.66, amount: 0.01, total_balance: 35.58\n",
            "2020-12-01 🧧 sell PDD at: 136.54, amount: 0.14, total_balance: 55.0\n",
            "2020-12-01 🧧 sell PTON at: 112.03, amount: 0.18, total_balance: 75.33\n",
            "2020-12-01 🧧 sell TEAM at: 224.06, amount: 0.1, total_balance: 98.72\n",
            "2020-12-01 🧧 sell XLNX at: 145.8, amount: 0.17, total_balance: 123.36\n",
            "2020-12-01 🟢 buy TMUS at: 133.73, amount: 0.15, total_balance: 80.0\n",
            "2020-12-01 🟢 buy TSLA at: 584.76, amount: 0.03, total_balance: 60.0\n",
            "2020-12-01 🟢 buy DLTR at: 112.39, amount: 0.18, total_balance: 40.0\n",
            "2020-12-01 🟢 buy MAR at: 128.52, amount: 0.16, total_balance: 20.0\n",
            "2020-12-01 🟢 buy NXPI at: 158.23, amount: 0.13, total_balance: 0.0\n"
          ],
          "name": "stdout"
        },
        {
          "output_type": "display_data",
          "data": {
            "text/markdown": "Month 16",
            "text/plain": [
              "<IPython.core.display.Markdown object>"
            ]
          },
          "metadata": {
            "tags": []
          }
        },
        {
          "output_type": "stream",
          "text": [
            "[('ADSK', 38.80476952736199), ('ILMN', 37.49438590093633), ('MNST', 37.066404451132314), ('EA', 36.926423653580045), ('PTON', 36.306291257925025)]\n",
            "2021-01-01 🧧 sell DLTR at: 108.04, amount: 0.18, total_balance: 19.23\n",
            "2021-01-01 🧧 sell MAR at: 131.92, amount: 0.16, total_balance: 39.76\n",
            "2021-01-01 🧧 sell NXPI at: 158.54, amount: 0.13, total_balance: 59.79\n",
            "2021-01-01 🧧 sell TMUS at: 134.85, amount: 0.15, total_balance: 79.96\n",
            "2021-01-01 🧧 sell TSLA at: 705.67, amount: 0.03, total_balance: 104.1\n",
            "2021-01-01 🟢 buy ADSK at: 305.34, amount: 0.07, total_balance: 80.0\n",
            "2021-01-01 🟢 buy ILMN at: 370.0, amount: 0.05, total_balance: 60.0\n",
            "2021-01-01 🟢 buy MNST at: 92.48, amount: 0.22, total_balance: 40.0\n",
            "2021-01-01 🟢 buy EA at: 143.42, amount: 0.14, total_balance: 20.0\n",
            "2021-01-01 🟢 buy PTON at: 151.72, amount: 0.13, total_balance: 0.0\n"
          ],
          "name": "stdout"
        },
        {
          "output_type": "display_data",
          "data": {
            "text/markdown": "Month 17",
            "text/plain": [
              "<IPython.core.display.Markdown object>"
            ]
          },
          "metadata": {
            "tags": []
          }
        },
        {
          "output_type": "stream",
          "text": [
            "[('EBAY', 28.37375022837888), ('GILD', 27.307034531641396), ('AVGO', 26.277771011267877), ('BIDU', 25.908390262076015), ('AMGN', 25.563857995397665)]\n",
            "2021-02-01 🧧 sell ADSK at: 286.32, amount: 0.07, total_balance: 18.75\n",
            "2021-02-01 🧧 sell EA at: 145.69, amount: 0.14, total_balance: 39.07\n",
            "2021-02-01 🧧 sell ILMN at: 443.38, amount: 0.05, total_balance: 63.04\n",
            "2021-02-01 🧧 sell MNST at: 88.25, amount: 0.22, total_balance: 82.12\n",
            "2021-02-01 🧧 sell PTON at: 146.79, amount: 0.13, total_balance: 101.47\n",
            "2021-02-01 🟢 buy EBAY at: 58.29, amount: 0.34, total_balance: 80.0\n",
            "2021-02-01 🟢 buy GILD at: 64.37, amount: 0.31, total_balance: 60.0\n",
            "2021-02-01 🟢 buy AVGO at: 463.12, amount: 0.04, total_balance: 40.0\n",
            "2021-02-01 🟢 buy BIDU at: 241.89, amount: 0.08, total_balance: 20.0\n",
            "2021-02-01 🟢 buy AMGN at: 238.66, amount: 0.08, total_balance: 0.0\n",
            "2021-02-10 🔴 sell BIDU at: 304.05, amount: 0.02, total_balance: 5.03\n"
          ],
          "name": "stdout"
        },
        {
          "output_type": "display_data",
          "data": {
            "text/markdown": "Month 18",
            "text/plain": [
              "<IPython.core.display.Markdown object>"
            ]
          },
          "metadata": {
            "tags": []
          }
        },
        {
          "output_type": "stream",
          "text": [
            "[('KHC', 26.35811147262224), ('MU', 23.54588394798471), ('AMAT', 23.312612380329316), ('BIDU', 22.583972400999585), ('BKNG', 21.598543878876434)]\n",
            "2021-03-01 🧧 sell AMGN at: 227.04, amount: 0.08, total_balance: 24.05\n",
            "2021-03-01 🧧 sell AVGO at: 485.78, amount: 0.04, total_balance: 45.03\n",
            "2021-03-01 🧧 sell EBAY at: 58.48, amount: 0.34, total_balance: 65.1\n",
            "2021-03-01 🧧 sell GILD at: 61.76, amount: 0.31, total_balance: 84.29\n",
            "2021-03-01 🟢 buy KHC at: 36.71, amount: 0.54, total_balance: 80.0\n",
            "2021-03-01 🟢 buy MU at: 94.76, amount: 0.21, total_balance: 60.0\n",
            "2021-03-01 🟢 buy AMAT at: 122.25, amount: 0.16, total_balance: 40.0\n",
            "2021-03-01 🟢 buy BIDU at: 295.58, amount: 0.07, total_balance: 20.0\n",
            "2021-03-01 🟢 buy BKNG at: 2320.5, amount: 0.01, total_balance: 0.0\n",
            "2021-03-08 🔥 cut_loss BIDU at: 232.68, amount: 0.13, total_balance: 31.13\n"
          ],
          "name": "stdout"
        },
        {
          "output_type": "display_data",
          "data": {
            "text/markdown": "Month 19",
            "text/plain": [
              "<IPython.core.display.Markdown object>"
            ]
          },
          "metadata": {
            "tags": []
          }
        },
        {
          "output_type": "stream",
          "text": [
            "[('AMGN', 28.15124385535322), ('DLTR', 27.536342307315454), ('AEP', 26.773927801893173), ('PAYX', 26.649546691232977), ('KHC', 26.525103208402008)]\n",
            "2021-04-01 🧧 sell AMAT at: 141.52, amount: 0.16, total_balance: 54.29\n",
            "2021-04-01 🧧 sell BKNG at: 2382.46, amount: 0.01, total_balance: 74.82\n",
            "2021-04-01 🧧 sell MU at: 92.41, amount: 0.21, total_balance: 94.33\n",
            "2021-04-01 🟢 buy AMGN at: 249.17, amount: 0.08, total_balance: 80.0\n",
            "2021-04-01 🟢 buy DLTR at: 115.93, amount: 0.17, total_balance: 60.0\n",
            "2021-04-01 🟢 buy AEP at: 85.54, amount: 0.23, total_balance: 40.0\n",
            "2021-04-01 🟢 buy PAYX at: 98.76, amount: 0.2, total_balance: 20.0\n",
            "2021-04-01 🟢 buy KHC at: 40.03, amount: 0.5, total_balance: 0.0\n",
            "-------- 📈 Summary --------\n",
            "0 -> total balance: 122.66, avg: 2.9048472348740426\n"
          ],
          "name": "stdout"
        },
        {
          "output_type": "display_data",
          "data": {
            "application/vnd.jupyter.widget-view+json": {
              "model_id": "46aa0e65fd204a9fbd390e4f0c6e0867",
              "version_minor": 0,
              "version_major": 2
            },
            "text/plain": [
              "HBox(children=(FloatProgress(value=0.0, description='date', max=578.0, style=ProgressStyle(description_width='…"
            ]
          },
          "metadata": {
            "tags": []
          }
        },
        {
          "output_type": "display_data",
          "data": {
            "text/markdown": "Month 1",
            "text/plain": [
              "<IPython.core.display.Markdown object>"
            ]
          },
          "metadata": {
            "tags": []
          }
        },
        {
          "output_type": "stream",
          "text": [
            "[('AEP', 22.531289177877177), ('XEL', 21.942662255744423), ('SGEN', 21.24162514304528), ('EXC', 20.096884432253443), ('AAPL', 19.673524652676964)]\n",
            "2019-10-01 🟢 buy AEP at: 88.76, amount: 0.23, total_balance: 80.0\n",
            "2019-10-01 🟢 buy XEL at: 62.41, amount: 0.32, total_balance: 60.0\n",
            "2019-10-01 🟢 buy SGEN at: 86.0, amount: 0.23, total_balance: 40.0\n",
            "2019-10-01 🟢 buy EXC at: 45.4, amount: 0.44, total_balance: 20.0\n",
            "2019-10-01 🟢 buy AAPL at: 55.42, amount: 0.36, total_balance: 0.0\n"
          ],
          "name": "stdout"
        },
        {
          "output_type": "display_data",
          "data": {
            "text/markdown": "Month 2",
            "text/plain": [
              "<IPython.core.display.Markdown object>"
            ]
          },
          "metadata": {
            "tags": []
          }
        },
        {
          "output_type": "stream",
          "text": [
            "[('AAPL', 42.211921312870274), ('VRTX', 40.671432730664776), ('SWKS', 38.48428087956857), ('PDD', 37.88427220673615), ('LRCX', 37.77188830799423)]\n",
            "2019-11-01 🧧 sell AEP at: 89.08, amount: 0.23, total_balance: 20.07\n",
            "2019-11-01 🧧 sell EXC at: 42.9, amount: 0.44, total_balance: 38.97\n",
            "2019-11-01 🧧 sell SGEN at: 106.45, amount: 0.23, total_balance: 63.73\n",
            "2019-11-01 🧧 sell XEL at: 60.64, amount: 0.32, total_balance: 83.16\n",
            "2019-11-01 🟢 buy AAPL at: 63.12, amount: 0.32, total_balance: 80.0\n",
            "2019-11-01 🟢 buy VRTX at: 200.94, amount: 0.1, total_balance: 60.0\n",
            "2019-11-01 🟢 buy SWKS at: 96.17, amount: 0.21, total_balance: 40.0\n",
            "2019-11-01 🟢 buy PDD at: 41.49, amount: 0.48, total_balance: 20.0\n",
            "2019-11-01 🟢 buy LRCX at: 271.91, amount: 0.07, total_balance: 0.0\n",
            "2019-11-20 🔥 cut_loss PDD at: 31.4, amount: 0.48, total_balance: 15.14\n"
          ],
          "name": "stdout"
        },
        {
          "output_type": "display_data",
          "data": {
            "text/markdown": "Month 3",
            "text/plain": [
              "<IPython.core.display.Markdown object>"
            ]
          },
          "metadata": {
            "tags": []
          }
        },
        {
          "output_type": "stream",
          "text": [
            "[('VRTX', 50.76354731271967), ('INCY', 49.10806766361794), ('ANSS', 47.83297991689221), ('REGN', 44.96806157791313), ('ADBE', 43.136079590235404)]\n",
            "2019-12-01 🧧 sell AAPL at: 66.14, amount: 0.68, total_balance: 59.96\n",
            "2019-12-01 🧧 sell LRCX at: 260.74, amount: 0.07, total_balance: 79.14\n",
            "2019-12-01 🧧 sell SWKS at: 96.17, amount: 0.21, total_balance: 99.14\n",
            "2019-12-01 🟢 buy VRTX at: 221.75, amount: 0.09, total_balance: 80.0\n",
            "2019-12-01 🟢 buy INCY at: 94.16, amount: 0.21, total_balance: 60.0\n",
            "2019-12-01 🟢 buy ANSS at: 254.69, amount: 0.08, total_balance: 40.0\n",
            "2019-12-01 🟢 buy REGN at: 369.0, amount: 0.05, total_balance: 20.0\n",
            "2019-12-01 🟢 buy ADBE at: 309.53, amount: 0.06, total_balance: 0.0\n"
          ],
          "name": "stdout"
        },
        {
          "output_type": "display_data",
          "data": {
            "text/markdown": "Month 4",
            "text/plain": [
              "<IPython.core.display.Markdown object>"
            ]
          },
          "metadata": {
            "tags": []
          }
        },
        {
          "output_type": "stream",
          "text": [
            "[('AAPL', 49.21298616111402), ('MSFT', 45.95336991390319), ('MTCH', 44.10328286879355), ('NXPI', 43.75705675715406), ('AMD', 43.21574253571947)]\n",
            "2020-01-01 🧧 sell ADBE at: 329.81, amount: 0.06, total_balance: 21.31\n",
            "2020-01-01 🧧 sell ANSS at: 257.41, amount: 0.08, total_balance: 41.52\n",
            "2020-01-01 🧧 sell INCY at: 87.32, amount: 0.21, total_balance: 60.07\n",
            "2020-01-01 🧧 sell REGN at: 375.48, amount: 0.05, total_balance: 80.42\n",
            "2020-01-01 🧧 sell VRTX at: 218.95, amount: 0.19, total_balance: 121.96\n",
            "2020-01-01 🟢 buy AAPL at: 72.68, amount: 0.28, total_balance: 80.0\n",
            "2020-01-01 🟢 buy MSFT at: 155.69, amount: 0.13, total_balance: 60.0\n",
            "2020-01-01 🟢 buy MTCH at: 82.11, amount: 0.24, total_balance: 40.0\n",
            "2020-01-01 🟢 buy NXPI at: 125.22, amount: 0.16, total_balance: 20.0\n",
            "2020-01-01 🟢 buy AMD at: 45.86, amount: 0.44, total_balance: 0.0\n"
          ],
          "name": "stdout"
        },
        {
          "output_type": "display_data",
          "data": {
            "text/markdown": "Month 5",
            "text/plain": [
              "<IPython.core.display.Markdown object>"
            ]
          },
          "metadata": {
            "tags": []
          }
        },
        {
          "output_type": "stream",
          "text": [
            "[('ADBE', 45.066632419335775), ('TEAM', 40.16129074670704), ('MNST', 39.23447999476957), ('ADSK', 38.8476576856538), ('VRSN', 36.334522080578374)]\n",
            "2020-02-01 🧧 sell AAPL at: 76.6, amount: 0.28, total_balance: 21.08\n",
            "2020-02-01 🧧 sell AMD at: 47.0, amount: 0.44, total_balance: 41.58\n",
            "2020-02-01 🧧 sell MSFT at: 168.06, amount: 0.13, total_balance: 63.17\n",
            "2020-02-01 🧧 sell MTCH at: 78.22, amount: 0.24, total_balance: 82.22\n",
            "2020-02-01 🧧 sell NXPI at: 124.83, amount: 0.16, total_balance: 102.16\n",
            "2020-02-01 🟢 buy ADBE at: 351.14, amount: 0.06, total_balance: 80.0\n",
            "2020-02-01 🟢 buy TEAM at: 147.0, amount: 0.14, total_balance: 60.0\n",
            "2020-02-01 🟢 buy MNST at: 66.6, amount: 0.3, total_balance: 40.0\n",
            "2020-02-01 🟢 buy ADSK at: 196.85, amount: 0.1, total_balance: 20.0\n",
            "2020-02-01 🟢 buy VRSN at: 208.14, amount: 0.1, total_balance: 0.0\n"
          ],
          "name": "stdout"
        },
        {
          "output_type": "display_data",
          "data": {
            "text/markdown": "Month 6",
            "text/plain": [
              "<IPython.core.display.Markdown object>"
            ]
          },
          "metadata": {
            "tags": []
          }
        },
        {
          "output_type": "stream",
          "text": [
            "[('GILD', 20.890512606207714), ('TSLA', 19.77621645645905), ('NFLX', 19.318530392658054), ('MRNA', 16.80879997844641), ('BIIB', 16.28123179267657)]\n",
            "2020-03-01 🧧 sell ADBE at: 345.12, amount: 0.06, total_balance: 19.66\n",
            "2020-03-01 🧧 sell ADSK at: 190.88, amount: 0.1, total_balance: 39.05\n",
            "2020-03-01 🧧 sell MNST at: 62.41, amount: 0.3, total_balance: 57.79\n",
            "2020-03-01 🧧 sell TEAM at: 144.96, amount: 0.14, total_balance: 77.51\n",
            "2020-03-01 🧧 sell VRSN at: 189.75, amount: 0.1, total_balance: 95.75\n",
            "2020-03-01 🟢 buy GILD at: 65.9, amount: 0.3, total_balance: 80.0\n",
            "2020-03-01 🟢 buy TSLA at: 133.6, amount: 0.15, total_balance: 60.0\n",
            "2020-03-01 🟢 buy NFLX at: 369.03, amount: 0.05, total_balance: 40.0\n",
            "2020-03-01 🟢 buy MRNA at: 25.93, amount: 0.77, total_balance: 20.0\n",
            "2020-03-01 🟢 buy BIIB at: 308.39, amount: 0.06, total_balance: 0.0\n",
            "2020-03-16 🔥 cut_loss TSLA at: 89.01, amount: 0.15, total_balance: 13.33\n"
          ],
          "name": "stdout"
        },
        {
          "output_type": "display_data",
          "data": {
            "text/markdown": "Month 7",
            "text/plain": [
              "<IPython.core.display.Markdown object>"
            ]
          },
          "metadata": {
            "tags": []
          }
        },
        {
          "output_type": "stream",
          "text": [
            "[('NFLX', 1.9598642693901835), ('JD', 1.2294408072163447), ('SGEN', 0.9841246951539382), ('PDD', 0.8070164840190006), ('PTON', 0.05662230082780834)]\n",
            "2020-04-01 🧧 sell BIIB at: 293.27, amount: 0.06, total_balance: 32.35\n",
            "2020-04-01 🧧 sell GILD at: 69.54, amount: 0.3, total_balance: 53.45\n",
            "2020-04-01 🧧 sell MRNA at: 29.67, amount: 0.77, total_balance: 76.33\n",
            "2020-04-01 🟢 buy NFLX at: 364.08, amount: 0.05, total_balance: 80.0\n",
            "2020-04-01 🟢 buy JD at: 40.91, amount: 0.49, total_balance: 60.0\n",
            "2020-04-01 🟢 buy SGEN at: 111.24, amount: 0.18, total_balance: 40.0\n",
            "2020-04-01 🟢 buy PDD at: 35.9, amount: 0.56, total_balance: 20.0\n",
            "2020-04-01 🟢 buy PTON at: 27.96, amount: 0.72, total_balance: 0.0\n",
            "2020-04-15 🔴 sell PTON at: 35.61, amount: 0.14, total_balance: 5.09\n",
            "2020-04-16 🔴 sell PDD at: 45.12, amount: 0.11, total_balance: 10.12\n",
            "2020-04-20 🔴 sell SGEN at: 142.55, amount: 0.04, total_balance: 15.25\n"
          ],
          "name": "stdout"
        },
        {
          "output_type": "display_data",
          "data": {
            "text/markdown": "Month 8",
            "text/plain": [
              "<IPython.core.display.Markdown object>"
            ]
          },
          "metadata": {
            "tags": []
          }
        },
        {
          "output_type": "stream",
          "text": [
            "[('AMZN', 29.208475308874277), ('DXCM', 27.687611653438772), ('OKTA', 26.724580504390783), ('DOCU', 25.78191311665391), ('KHC', 25.580842221392626)]\n",
            "2020-05-01 🧧 sell JD at: 41.38, amount: 0.49, total_balance: 35.48\n",
            "2020-05-01 🧧 sell NFLX at: 415.27, amount: 0.11, total_balance: 80.8\n",
            "2020-05-01 🧧 sell PDD at: 45.43, amount: 0.45, total_balance: 101.04\n",
            "2020-05-01 🧧 sell PTON at: 32.05, amount: 0.57, total_balance: 119.38\n",
            "2020-05-01 🧧 sell SGEN at: 145.64, amount: 0.14, total_balance: 140.33\n",
            "2020-05-01 🟢 buy AMZN at: 2286.04, amount: 0.01, total_balance: 80.0\n",
            "2020-05-01 🟢 buy DXCM at: 341.52, amount: 0.06, total_balance: 60.0\n",
            "2020-05-01 🟢 buy OKTA at: 148.84, amount: 0.13, total_balance: 40.0\n",
            "2020-05-01 🟢 buy DOCU at: 103.52, amount: 0.19, total_balance: 20.0\n",
            "2020-05-01 🟢 buy KHC at: 28.05, amount: 0.71, total_balance: 0.0\n",
            "2020-05-20 🔴 sell OKTA at: 187.7, amount: 0.03, total_balance: 5.04\n",
            "2020-05-21 🔴 sell DOCU at: 132.85, amount: 0.04, total_balance: 10.18\n"
          ],
          "name": "stdout"
        },
        {
          "output_type": "display_data",
          "data": {
            "text/markdown": "Month 9",
            "text/plain": [
              "<IPython.core.display.Markdown object>"
            ]
          },
          "metadata": {
            "tags": []
          }
        },
        {
          "output_type": "stream",
          "text": [
            "[('SPLK', 41.343003070829724), ('PYPL', 39.438258738419584), ('ILMN', 39.21347623141534), ('FB', 38.554157492966354), ('SNPS', 37.37746915496504)]\n",
            "2020-06-01 🧧 sell AMZN at: 2471.04, amount: 0.01, total_balance: 31.8\n",
            "2020-06-01 🧧 sell DOCU at: 147.22, amount: 0.15, total_balance: 54.55\n",
            "2020-06-01 🧧 sell DXCM at: 378.7, amount: 0.06, total_balance: 76.73\n",
            "2020-06-01 🧧 sell KHC at: 29.42, amount: 0.71, total_balance: 97.71\n",
            "2020-06-01 🧧 sell OKTA at: 204.78, amount: 0.11, total_balance: 119.72\n",
            "2020-06-01 🟢 buy SPLK at: 186.56, amount: 0.11, total_balance: 80.0\n",
            "2020-06-01 🟢 buy PYPL at: 154.53, amount: 0.13, total_balance: 60.0\n",
            "2020-06-01 🟢 buy ILMN at: 365.41, amount: 0.05, total_balance: 40.0\n",
            "2020-06-01 🟢 buy FB at: 231.91, amount: 0.09, total_balance: 20.0\n",
            "2020-06-01 🟢 buy SNPS at: 182.6, amount: 0.11, total_balance: 0.0\n"
          ],
          "name": "stdout"
        },
        {
          "output_type": "display_data",
          "data": {
            "text/markdown": "Month 10",
            "text/plain": [
              "<IPython.core.display.Markdown object>"
            ]
          },
          "metadata": {
            "tags": []
          }
        },
        {
          "output_type": "stream",
          "text": [
            "[('PDD', 37.83210168288902), ('MTCH', 37.191246264107185), ('AMZN', 36.374518974508945), ('EA', 35.10281727126047), ('PYPL', 34.42429494067389)]\n",
            "2020-07-01 🧧 sell FB at: 237.55, amount: 0.09, total_balance: 20.49\n",
            "2020-07-01 🧧 sell ILMN at: 368.55, amount: 0.05, total_balance: 40.66\n",
            "2020-07-01 🧧 sell SNPS at: 196.9, amount: 0.11, total_balance: 62.22\n",
            "2020-07-01 🧧 sell SPLK at: 203.61, amount: 0.11, total_balance: 84.05\n",
            "2020-07-01 🟢 buy PDD at: 85.45, amount: 0.23, total_balance: 80.0\n",
            "2020-07-01 🟢 buy MTCH at: 105.67, amount: 0.19, total_balance: 60.0\n",
            "2020-07-01 🟢 buy AMZN at: 2878.7, amount: 0.01, total_balance: 40.0\n",
            "2020-07-01 🟢 buy EA at: 134.87, amount: 0.15, total_balance: 20.0\n",
            "2020-07-01 🟢 buy PYPL at: 177.43, amount: 0.11, total_balance: 0.0\n"
          ],
          "name": "stdout"
        },
        {
          "output_type": "display_data",
          "data": {
            "text/markdown": "Month 11",
            "text/plain": [
              "<IPython.core.display.Markdown object>"
            ]
          },
          "metadata": {
            "tags": []
          }
        },
        {
          "output_type": "stream",
          "text": [
            "[('CDNS', 40.4777401443022), ('VRSK', 39.56924472968621), ('ORLY', 39.27503926987571), ('MNST', 37.681892602374575), ('KDP', 36.47112264073057)]\n",
            "2020-08-01 🧧 sell AMZN at: 3164.68, amount: 0.01, total_balance: 21.99\n",
            "2020-08-01 🧧 sell EA at: 141.26, amount: 0.15, total_balance: 42.93\n",
            "2020-08-01 🧧 sell MTCH at: 102.7, amount: 0.19, total_balance: 62.37\n",
            "2020-08-01 🧧 sell PDD at: 91.8, amount: 0.23, total_balance: 83.86\n",
            "2020-08-01 🧧 sell PYPL at: 196.07, amount: 0.24, total_balance: 131.34\n",
            "2020-08-01 🟢 buy CDNS at: 109.25, amount: 0.18, total_balance: 80.0\n",
            "2020-08-01 🟢 buy VRSK at: 187.85, amount: 0.11, total_balance: 60.0\n",
            "2020-08-01 🟢 buy ORLY at: 477.38, amount: 0.04, total_balance: 40.0\n",
            "2020-08-01 🟢 buy MNST at: 78.48, amount: 0.25, total_balance: 20.0\n",
            "2020-08-01 🟢 buy KDP at: 30.15, amount: 0.66, total_balance: 0.0\n"
          ],
          "name": "stdout"
        },
        {
          "output_type": "display_data",
          "data": {
            "text/markdown": "Month 12",
            "text/plain": [
              "<IPython.core.display.Markdown object>"
            ]
          },
          "metadata": {
            "tags": []
          }
        },
        {
          "output_type": "stream",
          "text": [
            "[('CHTR', 46.66029689725401), ('CTAS', 46.49653960227366), ('LULU', 46.48533459555708), ('INTU', 46.42530661887774), ('WDAY', 45.48653444881061)]\n",
            "2020-09-01 🧧 sell CDNS at: 113.98, amount: 0.18, total_balance: 20.87\n",
            "2020-09-01 🧧 sell KDP at: 29.52, amount: 0.66, total_balance: 40.45\n",
            "2020-09-01 🧧 sell MNST at: 84.84, amount: 0.25, total_balance: 62.07\n",
            "2020-09-01 🧧 sell ORLY at: 473.2, amount: 0.04, total_balance: 81.89\n",
            "2020-09-01 🧧 sell VRSK at: 186.84, amount: 0.11, total_balance: 101.79\n",
            "2020-09-01 🟢 buy CHTR at: 617.24, amount: 0.03, total_balance: 80.0\n",
            "2020-09-01 🟢 buy CTAS at: 331.11, amount: 0.06, total_balance: 60.0\n",
            "2020-09-01 🟢 buy LULU at: 391.16, amount: 0.05, total_balance: 40.0\n",
            "2020-09-01 🟢 buy INTU at: 345.52, amount: 0.06, total_balance: 20.0\n",
            "2020-09-01 🟢 buy WDAY at: 241.75, amount: 0.08, total_balance: 0.0\n",
            "2020-09-16 🔥 cut_loss LULU at: 309.99, amount: 0.05, total_balance: 15.85\n"
          ],
          "name": "stdout"
        },
        {
          "output_type": "display_data",
          "data": {
            "text/markdown": "Month 13",
            "text/plain": [
              "<IPython.core.display.Markdown object>"
            ]
          },
          "metadata": {
            "tags": []
          }
        },
        {
          "output_type": "stream",
          "text": [
            "[('CMCSA', 17.525265328213603), ('PAYX', 15.23523406257331), ('COST', 14.434395445949757), ('MRVL', 14.201357279129684), ('ALXN', 13.881469650886064)]\n",
            "2020-10-01 🧧 sell CHTR at: 635.11, amount: 0.03, total_balance: 36.43\n",
            "2020-10-01 🧧 sell CTAS at: 337.65, amount: 0.06, total_balance: 56.82\n",
            "2020-10-01 🧧 sell INTU at: 330.75, amount: 0.06, total_balance: 75.97\n",
            "2020-10-01 🧧 sell WDAY at: 220.52, amount: 0.08, total_balance: 94.21\n",
            "2020-10-01 🟢 buy CMCSA at: 45.79, amount: 0.44, total_balance: 80.0\n",
            "2020-10-01 🟢 buy PAYX at: 78.21, amount: 0.26, total_balance: 60.0\n",
            "2020-10-01 🟢 buy COST at: 347.21, amount: 0.06, total_balance: 40.0\n",
            "2020-10-01 🟢 buy MRVL at: 40.15, amount: 0.5, total_balance: 20.0\n",
            "2020-10-01 🟢 buy ALXN at: 115.63, amount: 0.17, total_balance: 0.0\n"
          ],
          "name": "stdout"
        },
        {
          "output_type": "display_data",
          "data": {
            "text/markdown": "Month 14",
            "text/plain": [
              "<IPython.core.display.Markdown object>"
            ]
          },
          "metadata": {
            "tags": []
          }
        },
        {
          "output_type": "stream",
          "text": [
            "[('MELI', 24.907864732984763), ('PDD', 22.843692001854674), ('XLNX', 22.657029259389308), ('TEAM', 21.184092369525846), ('PTON', 19.012898878119827)]\n",
            "2020-11-01 🧧 sell ALXN at: 115.14, amount: 0.17, total_balance: 19.92\n",
            "2020-11-01 🧧 sell CMCSA at: 41.86, amount: 0.44, total_balance: 38.2\n",
            "2020-11-01 🧧 sell COST at: 347.06, amount: 0.06, total_balance: 58.19\n",
            "2020-11-01 🧧 sell MRVL at: 37.42, amount: 0.5, total_balance: 76.83\n",
            "2020-11-01 🧧 sell PAYX at: 81.68, amount: 0.26, total_balance: 97.71\n",
            "2020-11-01 🟢 buy MELI at: 1214.05, amount: 0.02, total_balance: 80.0\n",
            "2020-11-01 🟢 buy PDD at: 89.98, amount: 0.22, total_balance: 60.0\n",
            "2020-11-01 🟢 buy XLNX at: 118.35, amount: 0.17, total_balance: 40.0\n",
            "2020-11-01 🟢 buy TEAM at: 191.62, amount: 0.1, total_balance: 20.0\n",
            "2020-11-01 🟢 buy PTON at: 110.21, amount: 0.18, total_balance: 0.0\n",
            "2020-11-05 🔴 sell PDD at: 113.07, amount: 0.04, total_balance: 5.03\n",
            "2020-11-13 🔴🔴 sell PDD at: 151.29, amount: 0.05, total_balance: 13.1\n",
            "2020-11-30 🔴 sell MELI at: 1553.33, amount: 0.0, total_balance: 18.21\n"
          ],
          "name": "stdout"
        },
        {
          "output_type": "display_data",
          "data": {
            "text/markdown": "Month 15",
            "text/plain": [
              "<IPython.core.display.Markdown object>"
            ]
          },
          "metadata": {
            "tags": []
          }
        },
        {
          "output_type": "stream",
          "text": [
            "[('TMUS', 41.30142245594403), ('TSLA', 40.45374245602365), ('DLTR', 38.9540245328211), ('MAR', 38.47440441871473), ('NXPI', 36.6703662991813)]\n",
            "2020-12-01 🧧 sell MELI at: 1521.66, amount: 0.01, total_balance: 38.27\n",
            "2020-12-01 🧧 sell PDD at: 136.54, amount: 0.12, total_balance: 55.26\n",
            "2020-12-01 🧧 sell PTON at: 112.03, amount: 0.18, total_balance: 75.59\n",
            "2020-12-01 🧧 sell TEAM at: 224.06, amount: 0.1, total_balance: 98.98\n",
            "2020-12-01 🧧 sell XLNX at: 145.8, amount: 0.17, total_balance: 123.62\n",
            "2020-12-01 🟢 buy TMUS at: 133.73, amount: 0.15, total_balance: 80.0\n",
            "2020-12-01 🟢 buy TSLA at: 584.76, amount: 0.03, total_balance: 60.0\n",
            "2020-12-01 🟢 buy DLTR at: 112.39, amount: 0.18, total_balance: 40.0\n",
            "2020-12-01 🟢 buy MAR at: 128.52, amount: 0.16, total_balance: 20.0\n",
            "2020-12-01 🟢 buy NXPI at: 158.23, amount: 0.13, total_balance: 0.0\n"
          ],
          "name": "stdout"
        },
        {
          "output_type": "display_data",
          "data": {
            "text/markdown": "Month 16",
            "text/plain": [
              "<IPython.core.display.Markdown object>"
            ]
          },
          "metadata": {
            "tags": []
          }
        },
        {
          "output_type": "stream",
          "text": [
            "[('ADSK', 38.80476952736199), ('ILMN', 37.49438590093633), ('MNST', 37.066404451132314), ('EA', 36.926423653580045), ('PTON', 36.306291257925025)]\n",
            "2021-01-01 🧧 sell DLTR at: 108.04, amount: 0.18, total_balance: 19.23\n",
            "2021-01-01 🧧 sell MAR at: 131.92, amount: 0.16, total_balance: 39.76\n",
            "2021-01-01 🧧 sell NXPI at: 158.54, amount: 0.13, total_balance: 59.79\n",
            "2021-01-01 🧧 sell TMUS at: 134.85, amount: 0.15, total_balance: 79.96\n",
            "2021-01-01 🧧 sell TSLA at: 705.67, amount: 0.03, total_balance: 104.1\n",
            "2021-01-01 🟢 buy ADSK at: 305.34, amount: 0.07, total_balance: 80.0\n",
            "2021-01-01 🟢 buy ILMN at: 370.0, amount: 0.05, total_balance: 60.0\n",
            "2021-01-01 🟢 buy MNST at: 92.48, amount: 0.22, total_balance: 40.0\n",
            "2021-01-01 🟢 buy EA at: 143.42, amount: 0.14, total_balance: 20.0\n",
            "2021-01-01 🟢 buy PTON at: 151.72, amount: 0.13, total_balance: 0.0\n"
          ],
          "name": "stdout"
        },
        {
          "output_type": "display_data",
          "data": {
            "text/markdown": "Month 17",
            "text/plain": [
              "<IPython.core.display.Markdown object>"
            ]
          },
          "metadata": {
            "tags": []
          }
        },
        {
          "output_type": "stream",
          "text": [
            "[('EBAY', 28.37375022837888), ('GILD', 27.307034531641396), ('AVGO', 26.277771011267877), ('BIDU', 25.908390262076015), ('AMGN', 25.563857995397665)]\n",
            "2021-02-01 🧧 sell ADSK at: 286.32, amount: 0.07, total_balance: 18.75\n",
            "2021-02-01 🧧 sell EA at: 145.69, amount: 0.14, total_balance: 39.07\n",
            "2021-02-01 🧧 sell ILMN at: 443.38, amount: 0.05, total_balance: 63.04\n",
            "2021-02-01 🧧 sell MNST at: 88.25, amount: 0.22, total_balance: 82.12\n",
            "2021-02-01 🧧 sell PTON at: 146.79, amount: 0.13, total_balance: 101.47\n",
            "2021-02-01 🟢 buy EBAY at: 58.29, amount: 0.34, total_balance: 80.0\n",
            "2021-02-01 🟢 buy GILD at: 64.37, amount: 0.31, total_balance: 60.0\n",
            "2021-02-01 🟢 buy AVGO at: 463.12, amount: 0.04, total_balance: 40.0\n",
            "2021-02-01 🟢 buy BIDU at: 241.89, amount: 0.08, total_balance: 20.0\n",
            "2021-02-01 🟢 buy AMGN at: 238.66, amount: 0.08, total_balance: 0.0\n",
            "2021-02-10 🔴 sell BIDU at: 304.05, amount: 0.02, total_balance: 5.03\n"
          ],
          "name": "stdout"
        },
        {
          "output_type": "display_data",
          "data": {
            "text/markdown": "Month 18",
            "text/plain": [
              "<IPython.core.display.Markdown object>"
            ]
          },
          "metadata": {
            "tags": []
          }
        },
        {
          "output_type": "stream",
          "text": [
            "[('KHC', 26.35811147262224), ('MU', 23.54588394798471), ('AMAT', 23.312612380329316), ('BIDU', 22.583972400999585), ('BKNG', 21.598543878876434)]\n",
            "2021-03-01 🧧 sell AMGN at: 227.04, amount: 0.08, total_balance: 24.05\n",
            "2021-03-01 🧧 sell AVGO at: 485.78, amount: 0.04, total_balance: 45.03\n",
            "2021-03-01 🧧 sell EBAY at: 58.48, amount: 0.34, total_balance: 65.1\n",
            "2021-03-01 🧧 sell GILD at: 61.76, amount: 0.31, total_balance: 84.29\n",
            "2021-03-01 🟢 buy KHC at: 36.71, amount: 0.54, total_balance: 80.0\n",
            "2021-03-01 🟢 buy MU at: 94.76, amount: 0.21, total_balance: 60.0\n",
            "2021-03-01 🟢 buy AMAT at: 122.25, amount: 0.16, total_balance: 40.0\n",
            "2021-03-01 🟢 buy BIDU at: 295.58, amount: 0.07, total_balance: 20.0\n",
            "2021-03-01 🟢 buy BKNG at: 2320.5, amount: 0.01, total_balance: 0.0\n",
            "2021-03-08 🔥 cut_loss BIDU at: 232.68, amount: 0.13, total_balance: 31.13\n"
          ],
          "name": "stdout"
        },
        {
          "output_type": "display_data",
          "data": {
            "text/markdown": "Month 19",
            "text/plain": [
              "<IPython.core.display.Markdown object>"
            ]
          },
          "metadata": {
            "tags": []
          }
        },
        {
          "output_type": "stream",
          "text": [
            "[('AMGN', 28.15124385535322), ('DLTR', 27.536342307315454), ('AEP', 26.773927801893173), ('PAYX', 26.649546691232977), ('KHC', 26.525103208402008)]\n",
            "2021-04-01 🧧 sell AMAT at: 141.52, amount: 0.16, total_balance: 54.29\n",
            "2021-04-01 🧧 sell BKNG at: 2382.46, amount: 0.01, total_balance: 74.82\n",
            "2021-04-01 🧧 sell MU at: 92.41, amount: 0.21, total_balance: 94.33\n",
            "2021-04-01 🟢 buy AMGN at: 249.17, amount: 0.08, total_balance: 80.0\n",
            "2021-04-01 🟢 buy DLTR at: 115.93, amount: 0.17, total_balance: 60.0\n",
            "2021-04-01 🟢 buy AEP at: 85.54, amount: 0.23, total_balance: 40.0\n",
            "2021-04-01 🟢 buy PAYX at: 98.76, amount: 0.2, total_balance: 20.0\n",
            "2021-04-01 🟢 buy KHC at: 40.03, amount: 0.5, total_balance: 0.0\n"
          ],
          "name": "stdout"
        },
        {
          "output_type": "error",
          "ename": "KeyboardInterrupt",
          "evalue": "ignored",
          "traceback": [
            "\u001b[0;31m---------------------------------------------------------------------------\u001b[0m",
            "\u001b[0;31mKeyboardInterrupt\u001b[0m                         Traceback (most recent call last)",
            "\u001b[0;32m<ipython-input-16-c468af86da98>\u001b[0m in \u001b[0;36m<module>\u001b[0;34m()\u001b[0m\n\u001b[1;32m    104\u001b[0m                         \u001b[0;31m# print(position)\u001b[0m\u001b[0;34m\u001b[0m\u001b[0;34m\u001b[0m\u001b[0;34m\u001b[0m\u001b[0m\n\u001b[1;32m    105\u001b[0m                         \u001b[0mprint\u001b[0m\u001b[0;34m(\u001b[0m\u001b[0;34mf\"{date_key} 🔥 cut_loss {stock_dict[i]} at: {round(price, decimal_display)}, amount: {round(amount, decimal_display)}, total_balance: {round(total_balance, decimal_display)}\"\u001b[0m\u001b[0;34m)\u001b[0m\u001b[0;34m\u001b[0m\u001b[0;34m\u001b[0m\u001b[0m\n\u001b[0;32m--> 106\u001b[0;31m         \u001b[0macc_total_balances\u001b[0m\u001b[0;34m.\u001b[0m\u001b[0mappend\u001b[0m\u001b[0;34m(\u001b[0m\u001b[0;34m(\u001b[0m\u001b[0msingle_date\u001b[0m\u001b[0;34m,\u001b[0m \u001b[0mtotal_balance\u001b[0m \u001b[0;34m+\u001b[0m \u001b[0mcalculate_position_balance\u001b[0m\u001b[0;34m(\u001b[0m\u001b[0msingle_date\u001b[0m\u001b[0;34m)\u001b[0m\u001b[0;34m)\u001b[0m\u001b[0;34m)\u001b[0m\u001b[0;34m\u001b[0m\u001b[0;34m\u001b[0m\u001b[0m\n\u001b[0m\u001b[1;32m    107\u001b[0m         \u001b[0;31m# print(calculate_position_balance(single_date))\u001b[0m\u001b[0;34m\u001b[0m\u001b[0;34m\u001b[0m\u001b[0;34m\u001b[0m\u001b[0m\n\u001b[1;32m    108\u001b[0m \u001b[0;34m\u001b[0m\u001b[0m\n",
            "\u001b[0;32m<ipython-input-10-55dc959f5e72>\u001b[0m in \u001b[0;36mcalculate_position_balance\u001b[0;34m(at_date)\u001b[0m\n\u001b[1;32m     15\u001b[0m               \u001b[0mdf\u001b[0m\u001b[0;34m[\u001b[0m\u001b[0mj\u001b[0m\u001b[0;34m]\u001b[0m\u001b[0;34m[\u001b[0m\u001b[0;34m'Close'\u001b[0m\u001b[0;34m]\u001b[0m\u001b[0;34m.\u001b[0m\u001b[0mget\u001b[0m\u001b[0;34m(\u001b[0m\u001b[0mto_date_key\u001b[0m\u001b[0;34m(\u001b[0m\u001b[0mat_date\u001b[0m\u001b[0;34m)\u001b[0m\u001b[0;34m)\u001b[0m \u001b[0;32melse\u001b[0m\u001b[0;34m\u001b[0m\u001b[0;34m\u001b[0m\u001b[0m\n\u001b[1;32m     16\u001b[0m               \u001b[0mfind_nearest_price\u001b[0m\u001b[0;34m(\u001b[0m\u001b[0mj\u001b[0m\u001b[0;34m,\u001b[0m \u001b[0mat_date\u001b[0m\u001b[0;34m)\u001b[0m\u001b[0;34m\u001b[0m\u001b[0;34m\u001b[0m\u001b[0m\n\u001b[0;32m---> 17\u001b[0;31m               for j in range(num_stocks)]\n\u001b[0m\u001b[1;32m     18\u001b[0m     \u001b[0;32mreturn\u001b[0m \u001b[0mnp\u001b[0m\u001b[0;34m.\u001b[0m\u001b[0mdot\u001b[0m\u001b[0;34m(\u001b[0m\u001b[0mposition\u001b[0m\u001b[0;34m,\u001b[0m \u001b[0mprices\u001b[0m\u001b[0;34m)\u001b[0m\u001b[0;34m\u001b[0m\u001b[0;34m\u001b[0m\u001b[0m\n\u001b[1;32m     19\u001b[0m \u001b[0;34m\u001b[0m\u001b[0m\n",
            "\u001b[0;32m<ipython-input-10-55dc959f5e72>\u001b[0m in \u001b[0;36m<listcomp>\u001b[0;34m(.0)\u001b[0m\n\u001b[1;32m     15\u001b[0m               \u001b[0mdf\u001b[0m\u001b[0;34m[\u001b[0m\u001b[0mj\u001b[0m\u001b[0;34m]\u001b[0m\u001b[0;34m[\u001b[0m\u001b[0;34m'Close'\u001b[0m\u001b[0;34m]\u001b[0m\u001b[0;34m.\u001b[0m\u001b[0mget\u001b[0m\u001b[0;34m(\u001b[0m\u001b[0mto_date_key\u001b[0m\u001b[0;34m(\u001b[0m\u001b[0mat_date\u001b[0m\u001b[0;34m)\u001b[0m\u001b[0;34m)\u001b[0m \u001b[0;32melse\u001b[0m\u001b[0;34m\u001b[0m\u001b[0;34m\u001b[0m\u001b[0m\n\u001b[1;32m     16\u001b[0m               \u001b[0mfind_nearest_price\u001b[0m\u001b[0;34m(\u001b[0m\u001b[0mj\u001b[0m\u001b[0;34m,\u001b[0m \u001b[0mat_date\u001b[0m\u001b[0;34m)\u001b[0m\u001b[0;34m\u001b[0m\u001b[0;34m\u001b[0m\u001b[0m\n\u001b[0;32m---> 17\u001b[0;31m               for j in range(num_stocks)]\n\u001b[0m\u001b[1;32m     18\u001b[0m     \u001b[0;32mreturn\u001b[0m \u001b[0mnp\u001b[0m\u001b[0;34m.\u001b[0m\u001b[0mdot\u001b[0m\u001b[0;34m(\u001b[0m\u001b[0mposition\u001b[0m\u001b[0;34m,\u001b[0m \u001b[0mprices\u001b[0m\u001b[0;34m)\u001b[0m\u001b[0;34m\u001b[0m\u001b[0;34m\u001b[0m\u001b[0m\n\u001b[1;32m     19\u001b[0m \u001b[0;34m\u001b[0m\u001b[0m\n",
            "\u001b[0;32m<ipython-input-10-55dc959f5e72>\u001b[0m in \u001b[0;36mfind_nearest_price\u001b[0;34m(i, date)\u001b[0m\n\u001b[1;32m     34\u001b[0m     \u001b[0;32mwhile\u001b[0m \u001b[0;32mTrue\u001b[0m\u001b[0;34m:\u001b[0m\u001b[0;34m\u001b[0m\u001b[0;34m\u001b[0m\u001b[0m\n\u001b[1;32m     35\u001b[0m         \u001b[0mdate\u001b[0m \u001b[0;34m-=\u001b[0m \u001b[0mtimedelta\u001b[0m\u001b[0;34m(\u001b[0m\u001b[0;36m1\u001b[0m\u001b[0;34m)\u001b[0m\u001b[0;34m\u001b[0m\u001b[0;34m\u001b[0m\u001b[0m\n\u001b[0;32m---> 36\u001b[0;31m         \u001b[0;32mif\u001b[0m \u001b[0mdf\u001b[0m\u001b[0;34m[\u001b[0m\u001b[0mi\u001b[0m\u001b[0;34m]\u001b[0m\u001b[0;34m[\u001b[0m\u001b[0;34m'Close'\u001b[0m\u001b[0;34m]\u001b[0m\u001b[0;34m.\u001b[0m\u001b[0mget\u001b[0m\u001b[0;34m(\u001b[0m\u001b[0mto_date_key\u001b[0m\u001b[0;34m(\u001b[0m\u001b[0mdate\u001b[0m\u001b[0;34m)\u001b[0m\u001b[0;34m)\u001b[0m\u001b[0;34m:\u001b[0m\u001b[0;34m\u001b[0m\u001b[0;34m\u001b[0m\u001b[0m\n\u001b[0m\u001b[1;32m     37\u001b[0m             \u001b[0;32mreturn\u001b[0m \u001b[0mdf\u001b[0m\u001b[0;34m[\u001b[0m\u001b[0mi\u001b[0m\u001b[0;34m]\u001b[0m\u001b[0;34m[\u001b[0m\u001b[0;34m'Close'\u001b[0m\u001b[0;34m]\u001b[0m\u001b[0;34m.\u001b[0m\u001b[0mget\u001b[0m\u001b[0;34m(\u001b[0m\u001b[0mto_date_key\u001b[0m\u001b[0;34m(\u001b[0m\u001b[0mdate\u001b[0m\u001b[0;34m)\u001b[0m\u001b[0;34m)\u001b[0m\u001b[0;34m\u001b[0m\u001b[0;34m\u001b[0m\u001b[0m\n\u001b[1;32m     38\u001b[0m \u001b[0;34m\u001b[0m\u001b[0m\n",
            "\u001b[0;32m/usr/local/lib/python3.7/dist-packages/pandas/core/generic.py\u001b[0m in \u001b[0;36mget\u001b[0;34m(self, key, default)\u001b[0m\n\u001b[1;32m   3738\u001b[0m         \"\"\"\n\u001b[1;32m   3739\u001b[0m         \u001b[0;32mtry\u001b[0m\u001b[0;34m:\u001b[0m\u001b[0;34m\u001b[0m\u001b[0;34m\u001b[0m\u001b[0m\n\u001b[0;32m-> 3740\u001b[0;31m             \u001b[0;32mreturn\u001b[0m \u001b[0mself\u001b[0m\u001b[0;34m[\u001b[0m\u001b[0mkey\u001b[0m\u001b[0;34m]\u001b[0m\u001b[0;34m\u001b[0m\u001b[0;34m\u001b[0m\u001b[0m\n\u001b[0m\u001b[1;32m   3741\u001b[0m         \u001b[0;32mexcept\u001b[0m \u001b[0;34m(\u001b[0m\u001b[0mKeyError\u001b[0m\u001b[0;34m,\u001b[0m \u001b[0mValueError\u001b[0m\u001b[0;34m,\u001b[0m \u001b[0mIndexError\u001b[0m\u001b[0;34m)\u001b[0m\u001b[0;34m:\u001b[0m\u001b[0;34m\u001b[0m\u001b[0;34m\u001b[0m\u001b[0m\n\u001b[1;32m   3742\u001b[0m             \u001b[0;32mreturn\u001b[0m \u001b[0mdefault\u001b[0m\u001b[0;34m\u001b[0m\u001b[0;34m\u001b[0m\u001b[0m\n",
            "\u001b[0;32m/usr/local/lib/python3.7/dist-packages/pandas/core/series.py\u001b[0m in \u001b[0;36m__getitem__\u001b[0;34m(self, key)\u001b[0m\n\u001b[1;32m    880\u001b[0m \u001b[0;34m\u001b[0m\u001b[0m\n\u001b[1;32m    881\u001b[0m         \u001b[0;32melif\u001b[0m \u001b[0mkey_is_scalar\u001b[0m\u001b[0;34m:\u001b[0m\u001b[0;34m\u001b[0m\u001b[0;34m\u001b[0m\u001b[0m\n\u001b[0;32m--> 882\u001b[0;31m             \u001b[0;32mreturn\u001b[0m \u001b[0mself\u001b[0m\u001b[0;34m.\u001b[0m\u001b[0m_get_value\u001b[0m\u001b[0;34m(\u001b[0m\u001b[0mkey\u001b[0m\u001b[0;34m)\u001b[0m\u001b[0;34m\u001b[0m\u001b[0;34m\u001b[0m\u001b[0m\n\u001b[0m\u001b[1;32m    883\u001b[0m \u001b[0;34m\u001b[0m\u001b[0m\n\u001b[1;32m    884\u001b[0m         \u001b[0;32mif\u001b[0m \u001b[0mis_hashable\u001b[0m\u001b[0;34m(\u001b[0m\u001b[0mkey\u001b[0m\u001b[0;34m)\u001b[0m\u001b[0;34m:\u001b[0m\u001b[0;34m\u001b[0m\u001b[0;34m\u001b[0m\u001b[0m\n",
            "\u001b[0;32m/usr/local/lib/python3.7/dist-packages/pandas/core/series.py\u001b[0m in \u001b[0;36m_get_value\u001b[0;34m(self, label, takeable)\u001b[0m\n\u001b[1;32m    988\u001b[0m \u001b[0;34m\u001b[0m\u001b[0m\n\u001b[1;32m    989\u001b[0m         \u001b[0;31m# Similar to Index.get_value, but we do not fall back to positional\u001b[0m\u001b[0;34m\u001b[0m\u001b[0;34m\u001b[0m\u001b[0;34m\u001b[0m\u001b[0m\n\u001b[0;32m--> 990\u001b[0;31m         \u001b[0mloc\u001b[0m \u001b[0;34m=\u001b[0m \u001b[0mself\u001b[0m\u001b[0;34m.\u001b[0m\u001b[0mindex\u001b[0m\u001b[0;34m.\u001b[0m\u001b[0mget_loc\u001b[0m\u001b[0;34m(\u001b[0m\u001b[0mlabel\u001b[0m\u001b[0;34m)\u001b[0m\u001b[0;34m\u001b[0m\u001b[0;34m\u001b[0m\u001b[0m\n\u001b[0m\u001b[1;32m    991\u001b[0m         \u001b[0;32mreturn\u001b[0m \u001b[0mself\u001b[0m\u001b[0;34m.\u001b[0m\u001b[0mindex\u001b[0m\u001b[0;34m.\u001b[0m\u001b[0m_get_values_for_loc\u001b[0m\u001b[0;34m(\u001b[0m\u001b[0mself\u001b[0m\u001b[0;34m,\u001b[0m \u001b[0mloc\u001b[0m\u001b[0;34m,\u001b[0m \u001b[0mlabel\u001b[0m\u001b[0;34m)\u001b[0m\u001b[0;34m\u001b[0m\u001b[0;34m\u001b[0m\u001b[0m\n\u001b[1;32m    992\u001b[0m \u001b[0;34m\u001b[0m\u001b[0m\n",
            "\u001b[0;32m/usr/local/lib/python3.7/dist-packages/pandas/core/indexes/datetimes.py\u001b[0m in \u001b[0;36mget_loc\u001b[0;34m(self, key, method, tolerance)\u001b[0m\n\u001b[1;32m    596\u001b[0m         \u001b[0;32melif\u001b[0m \u001b[0misinstance\u001b[0m\u001b[0;34m(\u001b[0m\u001b[0mkey\u001b[0m\u001b[0;34m,\u001b[0m \u001b[0mstr\u001b[0m\u001b[0;34m)\u001b[0m\u001b[0;34m:\u001b[0m\u001b[0;34m\u001b[0m\u001b[0;34m\u001b[0m\u001b[0m\n\u001b[1;32m    597\u001b[0m             \u001b[0;32mtry\u001b[0m\u001b[0;34m:\u001b[0m\u001b[0;34m\u001b[0m\u001b[0;34m\u001b[0m\u001b[0m\n\u001b[0;32m--> 598\u001b[0;31m                 \u001b[0;32mreturn\u001b[0m \u001b[0mself\u001b[0m\u001b[0;34m.\u001b[0m\u001b[0m_get_string_slice\u001b[0m\u001b[0;34m(\u001b[0m\u001b[0mkey\u001b[0m\u001b[0;34m)\u001b[0m\u001b[0;34m\u001b[0m\u001b[0;34m\u001b[0m\u001b[0m\n\u001b[0m\u001b[1;32m    599\u001b[0m             \u001b[0;32mexcept\u001b[0m \u001b[0;34m(\u001b[0m\u001b[0mTypeError\u001b[0m\u001b[0;34m,\u001b[0m \u001b[0mKeyError\u001b[0m\u001b[0;34m,\u001b[0m \u001b[0mValueError\u001b[0m\u001b[0;34m,\u001b[0m \u001b[0mOverflowError\u001b[0m\u001b[0;34m)\u001b[0m\u001b[0;34m:\u001b[0m\u001b[0;34m\u001b[0m\u001b[0;34m\u001b[0m\u001b[0m\n\u001b[1;32m    600\u001b[0m                 \u001b[0;32mpass\u001b[0m\u001b[0;34m\u001b[0m\u001b[0;34m\u001b[0m\u001b[0m\n",
            "\u001b[0;32m/usr/local/lib/python3.7/dist-packages/pandas/core/indexes/datetimes.py\u001b[0m in \u001b[0;36m_get_string_slice\u001b[0;34m(self, key, use_lhs, use_rhs)\u001b[0m\n\u001b[1;32m    679\u001b[0m         \u001b[0mfreq\u001b[0m \u001b[0;34m=\u001b[0m \u001b[0mgetattr\u001b[0m\u001b[0;34m(\u001b[0m\u001b[0mself\u001b[0m\u001b[0;34m,\u001b[0m \u001b[0;34m\"freqstr\"\u001b[0m\u001b[0;34m,\u001b[0m \u001b[0mgetattr\u001b[0m\u001b[0;34m(\u001b[0m\u001b[0mself\u001b[0m\u001b[0;34m,\u001b[0m \u001b[0;34m\"inferred_freq\"\u001b[0m\u001b[0;34m,\u001b[0m \u001b[0;32mNone\u001b[0m\u001b[0;34m)\u001b[0m\u001b[0;34m)\u001b[0m\u001b[0;34m\u001b[0m\u001b[0;34m\u001b[0m\u001b[0m\n\u001b[1;32m    680\u001b[0m         \u001b[0mparsed\u001b[0m\u001b[0;34m,\u001b[0m \u001b[0mreso\u001b[0m \u001b[0;34m=\u001b[0m \u001b[0mparsing\u001b[0m\u001b[0;34m.\u001b[0m\u001b[0mparse_time_string\u001b[0m\u001b[0;34m(\u001b[0m\u001b[0mkey\u001b[0m\u001b[0;34m,\u001b[0m \u001b[0mfreq\u001b[0m\u001b[0;34m)\u001b[0m\u001b[0;34m\u001b[0m\u001b[0;34m\u001b[0m\u001b[0m\n\u001b[0;32m--> 681\u001b[0;31m         \u001b[0mreso\u001b[0m \u001b[0;34m=\u001b[0m \u001b[0mResolution\u001b[0m\u001b[0;34m.\u001b[0m\u001b[0mfrom_attrname\u001b[0m\u001b[0;34m(\u001b[0m\u001b[0mreso\u001b[0m\u001b[0;34m)\u001b[0m\u001b[0;34m\u001b[0m\u001b[0;34m\u001b[0m\u001b[0m\n\u001b[0m\u001b[1;32m    682\u001b[0m         \u001b[0mloc\u001b[0m \u001b[0;34m=\u001b[0m \u001b[0mself\u001b[0m\u001b[0;34m.\u001b[0m\u001b[0m_partial_date_slice\u001b[0m\u001b[0;34m(\u001b[0m\u001b[0mreso\u001b[0m\u001b[0;34m,\u001b[0m \u001b[0mparsed\u001b[0m\u001b[0;34m,\u001b[0m \u001b[0muse_lhs\u001b[0m\u001b[0;34m=\u001b[0m\u001b[0muse_lhs\u001b[0m\u001b[0;34m,\u001b[0m \u001b[0muse_rhs\u001b[0m\u001b[0;34m=\u001b[0m\u001b[0muse_rhs\u001b[0m\u001b[0;34m)\u001b[0m\u001b[0;34m\u001b[0m\u001b[0;34m\u001b[0m\u001b[0m\n\u001b[1;32m    683\u001b[0m         \u001b[0;32mreturn\u001b[0m \u001b[0mloc\u001b[0m\u001b[0;34m\u001b[0m\u001b[0;34m\u001b[0m\u001b[0m\n",
            "\u001b[0;32mpandas/_libs/tslibs/dtypes.pyx\u001b[0m in \u001b[0;36mpandas._libs.tslibs.dtypes.Resolution.from_attrname\u001b[0;34m()\u001b[0m\n",
            "\u001b[0;32m/usr/lib/python3.7/enum.py\u001b[0m in \u001b[0;36m__call__\u001b[0;34m(cls, value, names, module, qualname, type, start)\u001b[0m\n\u001b[1;32m    287\u001b[0m         \u001b[0;32mreturn\u001b[0m \u001b[0;32mTrue\u001b[0m\u001b[0;34m\u001b[0m\u001b[0;34m\u001b[0m\u001b[0m\n\u001b[1;32m    288\u001b[0m \u001b[0;34m\u001b[0m\u001b[0m\n\u001b[0;32m--> 289\u001b[0;31m     \u001b[0;32mdef\u001b[0m \u001b[0m__call__\u001b[0m\u001b[0;34m(\u001b[0m\u001b[0mcls\u001b[0m\u001b[0;34m,\u001b[0m \u001b[0mvalue\u001b[0m\u001b[0;34m,\u001b[0m \u001b[0mnames\u001b[0m\u001b[0;34m=\u001b[0m\u001b[0;32mNone\u001b[0m\u001b[0;34m,\u001b[0m \u001b[0;34m*\u001b[0m\u001b[0;34m,\u001b[0m \u001b[0mmodule\u001b[0m\u001b[0;34m=\u001b[0m\u001b[0;32mNone\u001b[0m\u001b[0;34m,\u001b[0m \u001b[0mqualname\u001b[0m\u001b[0;34m=\u001b[0m\u001b[0;32mNone\u001b[0m\u001b[0;34m,\u001b[0m \u001b[0mtype\u001b[0m\u001b[0;34m=\u001b[0m\u001b[0;32mNone\u001b[0m\u001b[0;34m,\u001b[0m \u001b[0mstart\u001b[0m\u001b[0;34m=\u001b[0m\u001b[0;36m1\u001b[0m\u001b[0;34m)\u001b[0m\u001b[0;34m:\u001b[0m\u001b[0;34m\u001b[0m\u001b[0;34m\u001b[0m\u001b[0m\n\u001b[0m\u001b[1;32m    290\u001b[0m         \"\"\"Either returns an existing member, or creates a new enum class.\n\u001b[1;32m    291\u001b[0m \u001b[0;34m\u001b[0m\u001b[0m\n",
            "\u001b[0;31mKeyboardInterrupt\u001b[0m: "
          ]
        }
      ]
    },
    {
      "cell_type": "code",
      "metadata": {
        "id": "KJzhW7ioOZll"
      },
      "source": [
        "results.sort(key=lambda x:x[2], reverse=True)\n",
        "for result in results[:5]:\n",
        "    idx = result[0]\n",
        "    avg = results[2]\n",
        "    params = product_params[idx]\n",
        "\n",
        "    month_period = params[0]\n",
        "    num_stock_hold = params[1]\n",
        "    sell_threshold = params[2]\n",
        "    sell_ratio = params[3]\n",
        "    cut_loss_threshold = params[4]\n",
        "\n",
        "    print(f\"{idx}   total balance : {round(result[1], 100)}\")\n",
        "    print(f\"        average_per_period: {avg}\")\n",
        "    print(f\"        month_period: {month_period}\")\n",
        "    print(f\"        num_stock_hold: {num_stock_hold}\")\n",
        "    print(f\"        sell_threshold: {sell_threshold}\")\n",
        "    print(f\"        sell_ratio: {sell_ratio}\")\n",
        "    print(f\"        cut_loss_threshold: {cut_loss_threshold}\")\n",
        "    print()"
      ],
      "execution_count": null,
      "outputs": []
    }
  ]
}